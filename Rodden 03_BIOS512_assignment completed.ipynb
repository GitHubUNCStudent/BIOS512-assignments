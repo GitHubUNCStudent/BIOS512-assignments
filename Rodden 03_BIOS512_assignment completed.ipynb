{
 "cells": [
  {
   "cell_type": "markdown",
   "metadata": {},
   "source": [
    "Assignment 3"
   ]
  },
  {
   "cell_type": "code",
   "execution_count": 169,
   "metadata": {},
   "outputs": [],
   "source": [
    "# load libraries\n",
    "library('tidyverse')\n",
    "library('forcats')"
   ]
  },
  {
   "cell_type": "code",
   "execution_count": 170,
   "metadata": {},
   "outputs": [
    {
     "name": "stderr",
     "output_type": "stream",
     "text": [
      "Parsed with column specification:\n",
      "cols(\n",
      "  .default = col_double(),\n",
      "  EPISODE = \u001b[31mcol_character()\u001b[39m,\n",
      "  TITLE = \u001b[31mcol_character()\u001b[39m\n",
      ")\n",
      "See spec(...) for full column specifications.\n"
     ]
    }
   ],
   "source": [
    "# get data\n",
    "df = read_csv('https://raw.githubusercontent.com/fivethirtyeight/data/master/bob-ross/elements-by-episode.csv')"
   ]
  },
  {
   "cell_type": "code",
   "execution_count": 171,
   "metadata": {},
   "outputs": [
    {
     "data": {
      "text/html": [
       "<table>\n",
       "<caption>A tibble: 10 × 69</caption>\n",
       "<thead>\n",
       "\t<tr><th scope=col>EPISODE</th><th scope=col>TITLE</th><th scope=col>APPLE_FRAME</th><th scope=col>AURORA_BOREALIS</th><th scope=col>BARN</th><th scope=col>BEACH</th><th scope=col>BOAT</th><th scope=col>BRIDGE</th><th scope=col>BUILDING</th><th scope=col>BUSHES</th><th scope=col>...</th><th scope=col>TOMB_FRAME</th><th scope=col>TREE</th><th scope=col>TREES</th><th scope=col>TRIPLE_FRAME</th><th scope=col>WATERFALL</th><th scope=col>WAVES</th><th scope=col>WINDMILL</th><th scope=col>WINDOW_FRAME</th><th scope=col>WINTER</th><th scope=col>WOOD_FRAMED</th></tr>\n",
       "\t<tr><th scope=col>&lt;chr&gt;</th><th scope=col>&lt;chr&gt;</th><th scope=col>&lt;dbl&gt;</th><th scope=col>&lt;dbl&gt;</th><th scope=col>&lt;dbl&gt;</th><th scope=col>&lt;dbl&gt;</th><th scope=col>&lt;dbl&gt;</th><th scope=col>&lt;dbl&gt;</th><th scope=col>&lt;dbl&gt;</th><th scope=col>&lt;dbl&gt;</th><th scope=col>...</th><th scope=col>&lt;dbl&gt;</th><th scope=col>&lt;dbl&gt;</th><th scope=col>&lt;dbl&gt;</th><th scope=col>&lt;dbl&gt;</th><th scope=col>&lt;dbl&gt;</th><th scope=col>&lt;dbl&gt;</th><th scope=col>&lt;dbl&gt;</th><th scope=col>&lt;dbl&gt;</th><th scope=col>&lt;dbl&gt;</th><th scope=col>&lt;dbl&gt;</th></tr>\n",
       "</thead>\n",
       "<tbody>\n",
       "\t<tr><td>S01E01</td><td>\"A WALK IN THE WOODS\"</td><td>0</td><td>0</td><td>0</td><td>0</td><td>0</td><td>0</td><td>0</td><td>1</td><td>...</td><td>0</td><td>1</td><td>1</td><td>0</td><td>0</td><td>0</td><td>0</td><td>0</td><td>0</td><td>0</td></tr>\n",
       "\t<tr><td>S01E02</td><td>\"MT. MCKINLEY\"       </td><td>0</td><td>0</td><td>0</td><td>0</td><td>0</td><td>0</td><td>0</td><td>0</td><td>...</td><td>0</td><td>1</td><td>1</td><td>0</td><td>0</td><td>0</td><td>0</td><td>0</td><td>1</td><td>0</td></tr>\n",
       "\t<tr><td>S01E03</td><td>\"EBONY SUNSET\"       </td><td>0</td><td>0</td><td>0</td><td>0</td><td>0</td><td>0</td><td>0</td><td>0</td><td>...</td><td>0</td><td>1</td><td>1</td><td>0</td><td>0</td><td>0</td><td>0</td><td>0</td><td>1</td><td>0</td></tr>\n",
       "\t<tr><td>S01E04</td><td>\"WINTER MIST\"        </td><td>0</td><td>0</td><td>0</td><td>0</td><td>0</td><td>0</td><td>0</td><td>1</td><td>...</td><td>0</td><td>1</td><td>1</td><td>0</td><td>0</td><td>0</td><td>0</td><td>0</td><td>0</td><td>0</td></tr>\n",
       "\t<tr><td>S01E05</td><td>\"QUIET STREAM\"       </td><td>0</td><td>0</td><td>0</td><td>0</td><td>0</td><td>0</td><td>0</td><td>0</td><td>...</td><td>0</td><td>1</td><td>1</td><td>0</td><td>0</td><td>0</td><td>0</td><td>0</td><td>0</td><td>0</td></tr>\n",
       "\t<tr><td>S01E06</td><td>\"WINTER MOON\"        </td><td>0</td><td>0</td><td>0</td><td>0</td><td>0</td><td>0</td><td>0</td><td>0</td><td>...</td><td>0</td><td>1</td><td>1</td><td>0</td><td>0</td><td>0</td><td>0</td><td>0</td><td>1</td><td>0</td></tr>\n",
       "\t<tr><td>S01E07</td><td>\"AUTUMN MOUNTAINS\"   </td><td>0</td><td>0</td><td>0</td><td>0</td><td>0</td><td>0</td><td>0</td><td>0</td><td>...</td><td>0</td><td>1</td><td>1</td><td>0</td><td>0</td><td>0</td><td>0</td><td>0</td><td>0</td><td>0</td></tr>\n",
       "\t<tr><td>S01E08</td><td>\"PEACEFUL VALLEY\"    </td><td>0</td><td>0</td><td>0</td><td>0</td><td>0</td><td>0</td><td>0</td><td>1</td><td>...</td><td>0</td><td>1</td><td>1</td><td>0</td><td>0</td><td>0</td><td>0</td><td>0</td><td>0</td><td>0</td></tr>\n",
       "\t<tr><td>S01E09</td><td>\"SEASCAPE\"           </td><td>0</td><td>0</td><td>0</td><td>1</td><td>0</td><td>0</td><td>0</td><td>0</td><td>...</td><td>0</td><td>0</td><td>0</td><td>0</td><td>0</td><td>0</td><td>0</td><td>0</td><td>0</td><td>0</td></tr>\n",
       "\t<tr><td>S01E10</td><td>\"MOUNTAIN LAKE\"      </td><td>0</td><td>0</td><td>0</td><td>0</td><td>0</td><td>0</td><td>0</td><td>1</td><td>...</td><td>0</td><td>1</td><td>1</td><td>0</td><td>0</td><td>0</td><td>0</td><td>0</td><td>0</td><td>0</td></tr>\n",
       "</tbody>\n",
       "</table>\n"
      ],
      "text/latex": [
       "A tibble: 10 × 69\n",
       "\\begin{tabular}{r|lllllllllllllllllllllllllllllllllllllllllllllllllllllllllllllllllllll}\n",
       " EPISODE & TITLE & APPLE\\_FRAME & AURORA\\_BOREALIS & BARN & BEACH & BOAT & BRIDGE & BUILDING & BUSHES & CABIN & CACTUS & CIRCLE\\_FRAME & CIRRUS & CLIFF & CLOUDS & CONIFER & CUMULUS & DECIDUOUS & DIANE\\_ANDRE & DOCK & DOUBLE\\_OVAL\\_FRAME & FARM & FENCE & FIRE & FLORIDA\\_FRAME & FLOWERS & FOG & FRAMED & GRASS & GUEST & HALF\\_CIRCLE\\_FRAME & HALF\\_OVAL\\_FRAME & HILLS & LAKE & LAKES & LIGHTHOUSE & MILL & MOON & MOUNTAIN & MOUNTAINS & NIGHT & OCEAN & OVAL\\_FRAME & PALM\\_TREES & PATH & PERSON & PORTRAIT & RECTANGLE\\_3D\\_FRAME & RECTANGULAR\\_FRAME & RIVER & ROCKS & SEASHELL\\_FRAME & SNOW & SNOWY\\_MOUNTAIN & SPLIT\\_FRAME & STEVE\\_ROSS & STRUCTURE & SUN & TOMB\\_FRAME & TREE & TREES & TRIPLE\\_FRAME & WATERFALL & WAVES & WINDMILL & WINDOW\\_FRAME & WINTER & WOOD\\_FRAMED\\\\\n",
       " <chr> & <chr> & <dbl> & <dbl> & <dbl> & <dbl> & <dbl> & <dbl> & <dbl> & <dbl> & <dbl> & <dbl> & <dbl> & <dbl> & <dbl> & <dbl> & <dbl> & <dbl> & <dbl> & <dbl> & <dbl> & <dbl> & <dbl> & <dbl> & <dbl> & <dbl> & <dbl> & <dbl> & <dbl> & <dbl> & <dbl> & <dbl> & <dbl> & <dbl> & <dbl> & <dbl> & <dbl> & <dbl> & <dbl> & <dbl> & <dbl> & <dbl> & <dbl> & <dbl> & <dbl> & <dbl> & <dbl> & <dbl> & <dbl> & <dbl> & <dbl> & <dbl> & <dbl> & <dbl> & <dbl> & <dbl> & <dbl> & <dbl> & <dbl> & <dbl> & <dbl> & <dbl> & <dbl> & <dbl> & <dbl> & <dbl> & <dbl> & <dbl> & <dbl>\\\\\n",
       "\\hline\n",
       "\t S01E01 & \"A WALK IN THE WOODS\" & 0 & 0 & 0 & 0 & 0 & 0 & 0 & 1 & 0 & 0 & 0 & 0 & 0 & 0 & 0 & 0 & 1 & 0 & 0 & 0 & 0 & 0 & 0 & 0 & 0 & 0 & 0 & 1 & 0 & 0 & 0 & 0 & 0 & 0 & 0 & 0 & 0 & 0 & 0 & 0 & 0 & 0 & 0 & 0 & 0 & 0 & 0 & 0 & 1 & 0 & 0 & 0 & 0 & 0 & 0 & 0 & 0 & 0 & 1 & 1 & 0 & 0 & 0 & 0 & 0 & 0 & 0\\\\\n",
       "\t S01E02 & \"MT. MCKINLEY\"        & 0 & 0 & 0 & 0 & 0 & 0 & 0 & 0 & 1 & 0 & 0 & 0 & 0 & 1 & 1 & 0 & 0 & 0 & 0 & 0 & 0 & 0 & 0 & 0 & 0 & 0 & 0 & 0 & 0 & 0 & 0 & 0 & 0 & 0 & 0 & 0 & 0 & 1 & 0 & 0 & 0 & 0 & 0 & 0 & 0 & 0 & 0 & 0 & 0 & 0 & 0 & 1 & 1 & 0 & 0 & 0 & 0 & 0 & 1 & 1 & 0 & 0 & 0 & 0 & 0 & 1 & 0\\\\\n",
       "\t S01E03 & \"EBONY SUNSET\"        & 0 & 0 & 0 & 0 & 0 & 0 & 0 & 0 & 1 & 0 & 0 & 0 & 0 & 0 & 1 & 0 & 0 & 0 & 0 & 0 & 0 & 1 & 0 & 0 & 0 & 0 & 0 & 0 & 0 & 0 & 0 & 0 & 0 & 0 & 0 & 0 & 0 & 1 & 1 & 0 & 0 & 0 & 0 & 0 & 0 & 0 & 0 & 0 & 0 & 0 & 0 & 0 & 0 & 0 & 0 & 1 & 1 & 0 & 1 & 1 & 0 & 0 & 0 & 0 & 0 & 1 & 0\\\\\n",
       "\t S01E04 & \"WINTER MIST\"         & 0 & 0 & 0 & 0 & 0 & 0 & 0 & 1 & 0 & 0 & 0 & 0 & 0 & 1 & 1 & 0 & 0 & 0 & 0 & 0 & 0 & 0 & 0 & 0 & 0 & 0 & 0 & 0 & 0 & 0 & 0 & 0 & 1 & 0 & 0 & 0 & 0 & 1 & 0 & 0 & 0 & 0 & 0 & 0 & 0 & 0 & 0 & 0 & 0 & 0 & 0 & 0 & 1 & 0 & 0 & 0 & 0 & 0 & 1 & 1 & 0 & 0 & 0 & 0 & 0 & 0 & 0\\\\\n",
       "\t S01E05 & \"QUIET STREAM\"        & 0 & 0 & 0 & 0 & 0 & 0 & 0 & 0 & 0 & 0 & 0 & 0 & 0 & 0 & 0 & 0 & 1 & 0 & 0 & 0 & 0 & 0 & 0 & 0 & 0 & 0 & 0 & 0 & 0 & 0 & 0 & 0 & 0 & 0 & 0 & 0 & 0 & 0 & 0 & 0 & 0 & 0 & 0 & 0 & 0 & 0 & 0 & 0 & 1 & 1 & 0 & 0 & 0 & 0 & 0 & 0 & 0 & 0 & 1 & 1 & 0 & 0 & 0 & 0 & 0 & 0 & 0\\\\\n",
       "\t S01E06 & \"WINTER MOON\"         & 0 & 0 & 0 & 0 & 0 & 0 & 0 & 0 & 1 & 0 & 0 & 0 & 0 & 0 & 1 & 0 & 0 & 0 & 0 & 0 & 0 & 0 & 0 & 0 & 0 & 0 & 0 & 0 & 0 & 0 & 0 & 0 & 1 & 0 & 0 & 0 & 1 & 1 & 1 & 1 & 0 & 0 & 0 & 0 & 0 & 0 & 0 & 0 & 0 & 0 & 0 & 1 & 1 & 0 & 0 & 1 & 0 & 0 & 1 & 1 & 0 & 0 & 0 & 0 & 0 & 1 & 0\\\\\n",
       "\t S01E07 & \"AUTUMN MOUNTAINS\"    & 0 & 0 & 0 & 0 & 0 & 0 & 0 & 0 & 0 & 0 & 0 & 0 & 0 & 0 & 0 & 0 & 1 & 0 & 0 & 0 & 0 & 0 & 0 & 0 & 0 & 0 & 0 & 0 & 0 & 0 & 0 & 0 & 1 & 0 & 0 & 0 & 0 & 1 & 1 & 0 & 0 & 0 & 0 & 0 & 0 & 0 & 0 & 0 & 0 & 0 & 0 & 0 & 1 & 0 & 0 & 0 & 0 & 0 & 1 & 1 & 0 & 0 & 0 & 0 & 0 & 0 & 0\\\\\n",
       "\t S01E08 & \"PEACEFUL VALLEY\"     & 0 & 0 & 0 & 0 & 0 & 0 & 0 & 1 & 0 & 0 & 0 & 0 & 0 & 0 & 1 & 0 & 0 & 0 & 0 & 0 & 0 & 0 & 0 & 0 & 0 & 0 & 0 & 0 & 0 & 0 & 0 & 0 & 1 & 0 & 0 & 0 & 0 & 1 & 1 & 0 & 0 & 0 & 0 & 0 & 0 & 0 & 0 & 0 & 0 & 0 & 0 & 0 & 0 & 0 & 0 & 0 & 0 & 0 & 1 & 1 & 0 & 0 & 0 & 0 & 0 & 0 & 0\\\\\n",
       "\t S01E09 & \"SEASCAPE\"            & 0 & 0 & 0 & 1 & 0 & 0 & 0 & 0 & 0 & 0 & 0 & 0 & 0 & 1 & 0 & 0 & 0 & 0 & 0 & 0 & 0 & 1 & 0 & 0 & 0 & 0 & 0 & 0 & 0 & 0 & 0 & 0 & 0 & 0 & 0 & 0 & 0 & 0 & 0 & 0 & 1 & 0 & 0 & 0 & 0 & 0 & 0 & 0 & 0 & 0 & 0 & 0 & 0 & 0 & 0 & 0 & 0 & 0 & 0 & 0 & 0 & 0 & 0 & 0 & 0 & 0 & 0\\\\\n",
       "\t S01E10 & \"MOUNTAIN LAKE\"       & 0 & 0 & 0 & 0 & 0 & 0 & 0 & 1 & 0 & 0 & 0 & 0 & 0 & 0 & 1 & 0 & 1 & 0 & 0 & 0 & 0 & 0 & 0 & 0 & 0 & 0 & 0 & 0 & 0 & 0 & 0 & 0 & 1 & 0 & 0 & 0 & 0 & 1 & 0 & 0 & 0 & 0 & 0 & 0 & 0 & 0 & 0 & 0 & 0 & 0 & 0 & 0 & 0 & 0 & 0 & 0 & 0 & 0 & 1 & 1 & 0 & 0 & 0 & 0 & 0 & 0 & 0\\\\\n",
       "\\end{tabular}\n"
      ],
      "text/markdown": [
       "\n",
       "A tibble: 10 × 69\n",
       "\n",
       "| EPISODE &lt;chr&gt; | TITLE &lt;chr&gt; | APPLE_FRAME &lt;dbl&gt; | AURORA_BOREALIS &lt;dbl&gt; | BARN &lt;dbl&gt; | BEACH &lt;dbl&gt; | BOAT &lt;dbl&gt; | BRIDGE &lt;dbl&gt; | BUILDING &lt;dbl&gt; | BUSHES &lt;dbl&gt; | ... ... | TOMB_FRAME &lt;dbl&gt; | TREE &lt;dbl&gt; | TREES &lt;dbl&gt; | TRIPLE_FRAME &lt;dbl&gt; | WATERFALL &lt;dbl&gt; | WAVES &lt;dbl&gt; | WINDMILL &lt;dbl&gt; | WINDOW_FRAME &lt;dbl&gt; | WINTER &lt;dbl&gt; | WOOD_FRAMED &lt;dbl&gt; |\n",
       "|---|---|---|---|---|---|---|---|---|---|---|---|---|---|---|---|---|---|---|---|---|\n",
       "| S01E01 | \"A WALK IN THE WOODS\" | 0 | 0 | 0 | 0 | 0 | 0 | 0 | 1 | ... | 0 | 1 | 1 | 0 | 0 | 0 | 0 | 0 | 0 | 0 |\n",
       "| S01E02 | \"MT. MCKINLEY\"        | 0 | 0 | 0 | 0 | 0 | 0 | 0 | 0 | ... | 0 | 1 | 1 | 0 | 0 | 0 | 0 | 0 | 1 | 0 |\n",
       "| S01E03 | \"EBONY SUNSET\"        | 0 | 0 | 0 | 0 | 0 | 0 | 0 | 0 | ... | 0 | 1 | 1 | 0 | 0 | 0 | 0 | 0 | 1 | 0 |\n",
       "| S01E04 | \"WINTER MIST\"         | 0 | 0 | 0 | 0 | 0 | 0 | 0 | 1 | ... | 0 | 1 | 1 | 0 | 0 | 0 | 0 | 0 | 0 | 0 |\n",
       "| S01E05 | \"QUIET STREAM\"        | 0 | 0 | 0 | 0 | 0 | 0 | 0 | 0 | ... | 0 | 1 | 1 | 0 | 0 | 0 | 0 | 0 | 0 | 0 |\n",
       "| S01E06 | \"WINTER MOON\"         | 0 | 0 | 0 | 0 | 0 | 0 | 0 | 0 | ... | 0 | 1 | 1 | 0 | 0 | 0 | 0 | 0 | 1 | 0 |\n",
       "| S01E07 | \"AUTUMN MOUNTAINS\"    | 0 | 0 | 0 | 0 | 0 | 0 | 0 | 0 | ... | 0 | 1 | 1 | 0 | 0 | 0 | 0 | 0 | 0 | 0 |\n",
       "| S01E08 | \"PEACEFUL VALLEY\"     | 0 | 0 | 0 | 0 | 0 | 0 | 0 | 1 | ... | 0 | 1 | 1 | 0 | 0 | 0 | 0 | 0 | 0 | 0 |\n",
       "| S01E09 | \"SEASCAPE\"            | 0 | 0 | 0 | 1 | 0 | 0 | 0 | 0 | ... | 0 | 0 | 0 | 0 | 0 | 0 | 0 | 0 | 0 | 0 |\n",
       "| S01E10 | \"MOUNTAIN LAKE\"       | 0 | 0 | 0 | 0 | 0 | 0 | 0 | 1 | ... | 0 | 1 | 1 | 0 | 0 | 0 | 0 | 0 | 0 | 0 |\n",
       "\n"
      ],
      "text/plain": [
       "   EPISODE TITLE                 APPLE_FRAME AURORA_BOREALIS BARN BEACH BOAT\n",
       "1  S01E01  \"A WALK IN THE WOODS\" 0           0               0    0     0   \n",
       "2  S01E02  \"MT. MCKINLEY\"        0           0               0    0     0   \n",
       "3  S01E03  \"EBONY SUNSET\"        0           0               0    0     0   \n",
       "4  S01E04  \"WINTER MIST\"         0           0               0    0     0   \n",
       "5  S01E05  \"QUIET STREAM\"        0           0               0    0     0   \n",
       "6  S01E06  \"WINTER MOON\"         0           0               0    0     0   \n",
       "7  S01E07  \"AUTUMN MOUNTAINS\"    0           0               0    0     0   \n",
       "8  S01E08  \"PEACEFUL VALLEY\"     0           0               0    0     0   \n",
       "9  S01E09  \"SEASCAPE\"            0           0               0    1     0   \n",
       "10 S01E10  \"MOUNTAIN LAKE\"       0           0               0    0     0   \n",
       "   BRIDGE BUILDING BUSHES ... TOMB_FRAME TREE TREES TRIPLE_FRAME WATERFALL\n",
       "1  0      0        1      ... 0          1    1     0            0        \n",
       "2  0      0        0      ... 0          1    1     0            0        \n",
       "3  0      0        0      ... 0          1    1     0            0        \n",
       "4  0      0        1      ... 0          1    1     0            0        \n",
       "5  0      0        0      ... 0          1    1     0            0        \n",
       "6  0      0        0      ... 0          1    1     0            0        \n",
       "7  0      0        0      ... 0          1    1     0            0        \n",
       "8  0      0        1      ... 0          1    1     0            0        \n",
       "9  0      0        0      ... 0          0    0     0            0        \n",
       "10 0      0        1      ... 0          1    1     0            0        \n",
       "   WAVES WINDMILL WINDOW_FRAME WINTER WOOD_FRAMED\n",
       "1  0     0        0            0      0          \n",
       "2  0     0        0            1      0          \n",
       "3  0     0        0            1      0          \n",
       "4  0     0        0            0      0          \n",
       "5  0     0        0            0      0          \n",
       "6  0     0        0            1      0          \n",
       "7  0     0        0            0      0          \n",
       "8  0     0        0            0      0          \n",
       "9  0     0        0            0      0          \n",
       "10 0     0        0            0      0          "
      ]
     },
     "metadata": {},
     "output_type": "display_data"
    }
   ],
   "source": [
    "# preview data\n",
    "head(df, n=10)\n"
   ]
  },
  {
   "cell_type": "code",
   "execution_count": 172,
   "metadata": {},
   "outputs": [],
   "source": [
    "# make a copy of the df to work with\n",
    "df2 = df"
   ]
  },
  {
   "cell_type": "code",
   "execution_count": 173,
   "metadata": {},
   "outputs": [
    {
     "data": {
      "text/html": [
       "<table>\n",
       "<caption>A tibble: 20 × 4</caption>\n",
       "<thead>\n",
       "\t<tr><th scope=col>EPISODE</th><th scope=col>TITLE</th><th scope=col>subject</th><th scope=col>subject_count</th></tr>\n",
       "\t<tr><th scope=col>&lt;chr&gt;</th><th scope=col>&lt;chr&gt;</th><th scope=col>&lt;chr&gt;</th><th scope=col>&lt;dbl&gt;</th></tr>\n",
       "</thead>\n",
       "<tbody>\n",
       "\t<tr><td>S01E01</td><td>\"A WALK IN THE WOODS\"</td><td>APPLE_FRAME      </td><td>0</td></tr>\n",
       "\t<tr><td>S01E01</td><td>\"A WALK IN THE WOODS\"</td><td>AURORA_BOREALIS  </td><td>0</td></tr>\n",
       "\t<tr><td>S01E01</td><td>\"A WALK IN THE WOODS\"</td><td>BARN             </td><td>0</td></tr>\n",
       "\t<tr><td>S01E01</td><td>\"A WALK IN THE WOODS\"</td><td>BEACH            </td><td>0</td></tr>\n",
       "\t<tr><td>S01E01</td><td>\"A WALK IN THE WOODS\"</td><td>BOAT             </td><td>0</td></tr>\n",
       "\t<tr><td>S01E01</td><td>\"A WALK IN THE WOODS\"</td><td>BRIDGE           </td><td>0</td></tr>\n",
       "\t<tr><td>S01E01</td><td>\"A WALK IN THE WOODS\"</td><td>BUILDING         </td><td>0</td></tr>\n",
       "\t<tr><td>S01E01</td><td>\"A WALK IN THE WOODS\"</td><td>BUSHES           </td><td>1</td></tr>\n",
       "\t<tr><td>S01E01</td><td>\"A WALK IN THE WOODS\"</td><td>CABIN            </td><td>0</td></tr>\n",
       "\t<tr><td>S01E01</td><td>\"A WALK IN THE WOODS\"</td><td>CACTUS           </td><td>0</td></tr>\n",
       "\t<tr><td>S01E01</td><td>\"A WALK IN THE WOODS\"</td><td>CIRCLE_FRAME     </td><td>0</td></tr>\n",
       "\t<tr><td>S01E01</td><td>\"A WALK IN THE WOODS\"</td><td>CIRRUS           </td><td>0</td></tr>\n",
       "\t<tr><td>S01E01</td><td>\"A WALK IN THE WOODS\"</td><td>CLIFF            </td><td>0</td></tr>\n",
       "\t<tr><td>S01E01</td><td>\"A WALK IN THE WOODS\"</td><td>CLOUDS           </td><td>0</td></tr>\n",
       "\t<tr><td>S01E01</td><td>\"A WALK IN THE WOODS\"</td><td>CONIFER          </td><td>0</td></tr>\n",
       "\t<tr><td>S01E01</td><td>\"A WALK IN THE WOODS\"</td><td>CUMULUS          </td><td>0</td></tr>\n",
       "\t<tr><td>S01E01</td><td>\"A WALK IN THE WOODS\"</td><td>DECIDUOUS        </td><td>1</td></tr>\n",
       "\t<tr><td>S01E01</td><td>\"A WALK IN THE WOODS\"</td><td>DIANE_ANDRE      </td><td>0</td></tr>\n",
       "\t<tr><td>S01E01</td><td>\"A WALK IN THE WOODS\"</td><td>DOCK             </td><td>0</td></tr>\n",
       "\t<tr><td>S01E01</td><td>\"A WALK IN THE WOODS\"</td><td>DOUBLE_OVAL_FRAME</td><td>0</td></tr>\n",
       "</tbody>\n",
       "</table>\n"
      ],
      "text/latex": [
       "A tibble: 20 × 4\n",
       "\\begin{tabular}{r|llll}\n",
       " EPISODE & TITLE & subject & subject\\_count\\\\\n",
       " <chr> & <chr> & <chr> & <dbl>\\\\\n",
       "\\hline\n",
       "\t S01E01 & \"A WALK IN THE WOODS\" & APPLE\\_FRAME       & 0\\\\\n",
       "\t S01E01 & \"A WALK IN THE WOODS\" & AURORA\\_BOREALIS   & 0\\\\\n",
       "\t S01E01 & \"A WALK IN THE WOODS\" & BARN              & 0\\\\\n",
       "\t S01E01 & \"A WALK IN THE WOODS\" & BEACH             & 0\\\\\n",
       "\t S01E01 & \"A WALK IN THE WOODS\" & BOAT              & 0\\\\\n",
       "\t S01E01 & \"A WALK IN THE WOODS\" & BRIDGE            & 0\\\\\n",
       "\t S01E01 & \"A WALK IN THE WOODS\" & BUILDING          & 0\\\\\n",
       "\t S01E01 & \"A WALK IN THE WOODS\" & BUSHES            & 1\\\\\n",
       "\t S01E01 & \"A WALK IN THE WOODS\" & CABIN             & 0\\\\\n",
       "\t S01E01 & \"A WALK IN THE WOODS\" & CACTUS            & 0\\\\\n",
       "\t S01E01 & \"A WALK IN THE WOODS\" & CIRCLE\\_FRAME      & 0\\\\\n",
       "\t S01E01 & \"A WALK IN THE WOODS\" & CIRRUS            & 0\\\\\n",
       "\t S01E01 & \"A WALK IN THE WOODS\" & CLIFF             & 0\\\\\n",
       "\t S01E01 & \"A WALK IN THE WOODS\" & CLOUDS            & 0\\\\\n",
       "\t S01E01 & \"A WALK IN THE WOODS\" & CONIFER           & 0\\\\\n",
       "\t S01E01 & \"A WALK IN THE WOODS\" & CUMULUS           & 0\\\\\n",
       "\t S01E01 & \"A WALK IN THE WOODS\" & DECIDUOUS         & 1\\\\\n",
       "\t S01E01 & \"A WALK IN THE WOODS\" & DIANE\\_ANDRE       & 0\\\\\n",
       "\t S01E01 & \"A WALK IN THE WOODS\" & DOCK              & 0\\\\\n",
       "\t S01E01 & \"A WALK IN THE WOODS\" & DOUBLE\\_OVAL\\_FRAME & 0\\\\\n",
       "\\end{tabular}\n"
      ],
      "text/markdown": [
       "\n",
       "A tibble: 20 × 4\n",
       "\n",
       "| EPISODE &lt;chr&gt; | TITLE &lt;chr&gt; | subject &lt;chr&gt; | subject_count &lt;dbl&gt; |\n",
       "|---|---|---|---|\n",
       "| S01E01 | \"A WALK IN THE WOODS\" | APPLE_FRAME       | 0 |\n",
       "| S01E01 | \"A WALK IN THE WOODS\" | AURORA_BOREALIS   | 0 |\n",
       "| S01E01 | \"A WALK IN THE WOODS\" | BARN              | 0 |\n",
       "| S01E01 | \"A WALK IN THE WOODS\" | BEACH             | 0 |\n",
       "| S01E01 | \"A WALK IN THE WOODS\" | BOAT              | 0 |\n",
       "| S01E01 | \"A WALK IN THE WOODS\" | BRIDGE            | 0 |\n",
       "| S01E01 | \"A WALK IN THE WOODS\" | BUILDING          | 0 |\n",
       "| S01E01 | \"A WALK IN THE WOODS\" | BUSHES            | 1 |\n",
       "| S01E01 | \"A WALK IN THE WOODS\" | CABIN             | 0 |\n",
       "| S01E01 | \"A WALK IN THE WOODS\" | CACTUS            | 0 |\n",
       "| S01E01 | \"A WALK IN THE WOODS\" | CIRCLE_FRAME      | 0 |\n",
       "| S01E01 | \"A WALK IN THE WOODS\" | CIRRUS            | 0 |\n",
       "| S01E01 | \"A WALK IN THE WOODS\" | CLIFF             | 0 |\n",
       "| S01E01 | \"A WALK IN THE WOODS\" | CLOUDS            | 0 |\n",
       "| S01E01 | \"A WALK IN THE WOODS\" | CONIFER           | 0 |\n",
       "| S01E01 | \"A WALK IN THE WOODS\" | CUMULUS           | 0 |\n",
       "| S01E01 | \"A WALK IN THE WOODS\" | DECIDUOUS         | 1 |\n",
       "| S01E01 | \"A WALK IN THE WOODS\" | DIANE_ANDRE       | 0 |\n",
       "| S01E01 | \"A WALK IN THE WOODS\" | DOCK              | 0 |\n",
       "| S01E01 | \"A WALK IN THE WOODS\" | DOUBLE_OVAL_FRAME | 0 |\n",
       "\n"
      ],
      "text/plain": [
       "   EPISODE TITLE                 subject           subject_count\n",
       "1  S01E01  \"A WALK IN THE WOODS\" APPLE_FRAME       0            \n",
       "2  S01E01  \"A WALK IN THE WOODS\" AURORA_BOREALIS   0            \n",
       "3  S01E01  \"A WALK IN THE WOODS\" BARN              0            \n",
       "4  S01E01  \"A WALK IN THE WOODS\" BEACH             0            \n",
       "5  S01E01  \"A WALK IN THE WOODS\" BOAT              0            \n",
       "6  S01E01  \"A WALK IN THE WOODS\" BRIDGE            0            \n",
       "7  S01E01  \"A WALK IN THE WOODS\" BUILDING          0            \n",
       "8  S01E01  \"A WALK IN THE WOODS\" BUSHES            1            \n",
       "9  S01E01  \"A WALK IN THE WOODS\" CABIN             0            \n",
       "10 S01E01  \"A WALK IN THE WOODS\" CACTUS            0            \n",
       "11 S01E01  \"A WALK IN THE WOODS\" CIRCLE_FRAME      0            \n",
       "12 S01E01  \"A WALK IN THE WOODS\" CIRRUS            0            \n",
       "13 S01E01  \"A WALK IN THE WOODS\" CLIFF             0            \n",
       "14 S01E01  \"A WALK IN THE WOODS\" CLOUDS            0            \n",
       "15 S01E01  \"A WALK IN THE WOODS\" CONIFER           0            \n",
       "16 S01E01  \"A WALK IN THE WOODS\" CUMULUS           0            \n",
       "17 S01E01  \"A WALK IN THE WOODS\" DECIDUOUS         1            \n",
       "18 S01E01  \"A WALK IN THE WOODS\" DIANE_ANDRE       0            \n",
       "19 S01E01  \"A WALK IN THE WOODS\" DOCK              0            \n",
       "20 S01E01  \"A WALK IN THE WOODS\" DOUBLE_OVAL_FRAME 0            "
      ]
     },
     "metadata": {},
     "output_type": "display_data"
    }
   ],
   "source": [
    "# pivot_longer\n",
    "df3 = df2 %>%\n",
    "        pivot_longer(-c(EPISODE,TITLE), names_to=\"subject\", values_to=\"subject_count\")\n",
    "\n",
    "head(df3, n=20)"
   ]
  },
  {
   "cell_type": "code",
   "execution_count": 174,
   "metadata": {},
   "outputs": [
    {
     "data": {
      "text/html": [
       "<table>\n",
       "<caption>A tibble: 10 × 5</caption>\n",
       "<thead>\n",
       "\t<tr><th scope=col>EPISODE</th><th scope=col>TITLE</th><th scope=col>subject</th><th scope=col>subject_count</th><th scope=col>subject_factor</th></tr>\n",
       "\t<tr><th scope=col>&lt;chr&gt;</th><th scope=col>&lt;chr&gt;</th><th scope=col>&lt;chr&gt;</th><th scope=col>&lt;dbl&gt;</th><th scope=col>&lt;fct&gt;</th></tr>\n",
       "</thead>\n",
       "<tbody>\n",
       "\t<tr><td>S01E01</td><td>\"A WALK IN THE WOODS\"</td><td>APPLE_FRAME    </td><td>0</td><td>APPLE_FRAME    </td></tr>\n",
       "\t<tr><td>S01E01</td><td>\"A WALK IN THE WOODS\"</td><td>AURORA_BOREALIS</td><td>0</td><td>AURORA_BOREALIS</td></tr>\n",
       "\t<tr><td>S01E01</td><td>\"A WALK IN THE WOODS\"</td><td>BARN           </td><td>0</td><td>BARN           </td></tr>\n",
       "\t<tr><td>S01E01</td><td>\"A WALK IN THE WOODS\"</td><td>BEACH          </td><td>0</td><td>BEACH          </td></tr>\n",
       "\t<tr><td>S01E01</td><td>\"A WALK IN THE WOODS\"</td><td>BOAT           </td><td>0</td><td>BOAT           </td></tr>\n",
       "\t<tr><td>S01E01</td><td>\"A WALK IN THE WOODS\"</td><td>BRIDGE         </td><td>0</td><td>BRIDGE         </td></tr>\n",
       "\t<tr><td>S01E01</td><td>\"A WALK IN THE WOODS\"</td><td>BUILDING       </td><td>0</td><td>BUILDING       </td></tr>\n",
       "\t<tr><td>S01E01</td><td>\"A WALK IN THE WOODS\"</td><td>BUSHES         </td><td>1</td><td>BUSHES         </td></tr>\n",
       "\t<tr><td>S01E01</td><td>\"A WALK IN THE WOODS\"</td><td>CABIN          </td><td>0</td><td>CABIN          </td></tr>\n",
       "\t<tr><td>S01E01</td><td>\"A WALK IN THE WOODS\"</td><td>CACTUS         </td><td>0</td><td>CACTUS         </td></tr>\n",
       "</tbody>\n",
       "</table>\n"
      ],
      "text/latex": [
       "A tibble: 10 × 5\n",
       "\\begin{tabular}{r|lllll}\n",
       " EPISODE & TITLE & subject & subject\\_count & subject\\_factor\\\\\n",
       " <chr> & <chr> & <chr> & <dbl> & <fct>\\\\\n",
       "\\hline\n",
       "\t S01E01 & \"A WALK IN THE WOODS\" & APPLE\\_FRAME     & 0 & APPLE\\_FRAME    \\\\\n",
       "\t S01E01 & \"A WALK IN THE WOODS\" & AURORA\\_BOREALIS & 0 & AURORA\\_BOREALIS\\\\\n",
       "\t S01E01 & \"A WALK IN THE WOODS\" & BARN            & 0 & BARN           \\\\\n",
       "\t S01E01 & \"A WALK IN THE WOODS\" & BEACH           & 0 & BEACH          \\\\\n",
       "\t S01E01 & \"A WALK IN THE WOODS\" & BOAT            & 0 & BOAT           \\\\\n",
       "\t S01E01 & \"A WALK IN THE WOODS\" & BRIDGE          & 0 & BRIDGE         \\\\\n",
       "\t S01E01 & \"A WALK IN THE WOODS\" & BUILDING        & 0 & BUILDING       \\\\\n",
       "\t S01E01 & \"A WALK IN THE WOODS\" & BUSHES          & 1 & BUSHES         \\\\\n",
       "\t S01E01 & \"A WALK IN THE WOODS\" & CABIN           & 0 & CABIN          \\\\\n",
       "\t S01E01 & \"A WALK IN THE WOODS\" & CACTUS          & 0 & CACTUS         \\\\\n",
       "\\end{tabular}\n"
      ],
      "text/markdown": [
       "\n",
       "A tibble: 10 × 5\n",
       "\n",
       "| EPISODE &lt;chr&gt; | TITLE &lt;chr&gt; | subject &lt;chr&gt; | subject_count &lt;dbl&gt; | subject_factor &lt;fct&gt; |\n",
       "|---|---|---|---|---|\n",
       "| S01E01 | \"A WALK IN THE WOODS\" | APPLE_FRAME     | 0 | APPLE_FRAME     |\n",
       "| S01E01 | \"A WALK IN THE WOODS\" | AURORA_BOREALIS | 0 | AURORA_BOREALIS |\n",
       "| S01E01 | \"A WALK IN THE WOODS\" | BARN            | 0 | BARN            |\n",
       "| S01E01 | \"A WALK IN THE WOODS\" | BEACH           | 0 | BEACH           |\n",
       "| S01E01 | \"A WALK IN THE WOODS\" | BOAT            | 0 | BOAT            |\n",
       "| S01E01 | \"A WALK IN THE WOODS\" | BRIDGE          | 0 | BRIDGE          |\n",
       "| S01E01 | \"A WALK IN THE WOODS\" | BUILDING        | 0 | BUILDING        |\n",
       "| S01E01 | \"A WALK IN THE WOODS\" | BUSHES          | 1 | BUSHES          |\n",
       "| S01E01 | \"A WALK IN THE WOODS\" | CABIN           | 0 | CABIN           |\n",
       "| S01E01 | \"A WALK IN THE WOODS\" | CACTUS          | 0 | CACTUS          |\n",
       "\n"
      ],
      "text/plain": [
       "   EPISODE TITLE                 subject         subject_count subject_factor \n",
       "1  S01E01  \"A WALK IN THE WOODS\" APPLE_FRAME     0             APPLE_FRAME    \n",
       "2  S01E01  \"A WALK IN THE WOODS\" AURORA_BOREALIS 0             AURORA_BOREALIS\n",
       "3  S01E01  \"A WALK IN THE WOODS\" BARN            0             BARN           \n",
       "4  S01E01  \"A WALK IN THE WOODS\" BEACH           0             BEACH          \n",
       "5  S01E01  \"A WALK IN THE WOODS\" BOAT            0             BOAT           \n",
       "6  S01E01  \"A WALK IN THE WOODS\" BRIDGE          0             BRIDGE         \n",
       "7  S01E01  \"A WALK IN THE WOODS\" BUILDING        0             BUILDING       \n",
       "8  S01E01  \"A WALK IN THE WOODS\" BUSHES          1             BUSHES         \n",
       "9  S01E01  \"A WALK IN THE WOODS\" CABIN           0             CABIN          \n",
       "10 S01E01  \"A WALK IN THE WOODS\" CACTUS          0             CACTUS         "
      ]
     },
     "metadata": {},
     "output_type": "display_data"
    }
   ],
   "source": [
    "# convert subject variable into a factor\n",
    "df3 = mutate(df3, subject_factor=factor(df3$subject))\n",
    "\n",
    "head(df3, n=10)"
   ]
  },
  {
   "cell_type": "code",
   "execution_count": 175,
   "metadata": {},
   "outputs": [
    {
     "data": {
      "text/html": [
       "<table>\n",
       "<caption>A tibble: 6 × 2</caption>\n",
       "<thead>\n",
       "\t<tr><th scope=col>subject</th><th scope=col>total</th></tr>\n",
       "\t<tr><th scope=col>&lt;chr&gt;</th><th scope=col>&lt;dbl&gt;</th></tr>\n",
       "</thead>\n",
       "<tbody>\n",
       "\t<tr><td>APPLE_FRAME    </td><td> 1</td></tr>\n",
       "\t<tr><td>AURORA_BOREALIS</td><td> 2</td></tr>\n",
       "\t<tr><td>BARN           </td><td>17</td></tr>\n",
       "\t<tr><td>BEACH          </td><td>27</td></tr>\n",
       "\t<tr><td>BOAT           </td><td> 2</td></tr>\n",
       "\t<tr><td>BRIDGE         </td><td> 7</td></tr>\n",
       "</tbody>\n",
       "</table>\n"
      ],
      "text/latex": [
       "A tibble: 6 × 2\n",
       "\\begin{tabular}{r|ll}\n",
       " subject & total\\\\\n",
       " <chr> & <dbl>\\\\\n",
       "\\hline\n",
       "\t APPLE\\_FRAME     &  1\\\\\n",
       "\t AURORA\\_BOREALIS &  2\\\\\n",
       "\t BARN            & 17\\\\\n",
       "\t BEACH           & 27\\\\\n",
       "\t BOAT            &  2\\\\\n",
       "\t BRIDGE          &  7\\\\\n",
       "\\end{tabular}\n"
      ],
      "text/markdown": [
       "\n",
       "A tibble: 6 × 2\n",
       "\n",
       "| subject &lt;chr&gt; | total &lt;dbl&gt; |\n",
       "|---|---|\n",
       "| APPLE_FRAME     |  1 |\n",
       "| AURORA_BOREALIS |  2 |\n",
       "| BARN            | 17 |\n",
       "| BEACH           | 27 |\n",
       "| BOAT            |  2 |\n",
       "| BRIDGE          |  7 |\n",
       "\n"
      ],
      "text/plain": [
       "  subject         total\n",
       "1 APPLE_FRAME      1   \n",
       "2 AURORA_BOREALIS  2   \n",
       "3 BARN            17   \n",
       "4 BEACH           27   \n",
       "5 BOAT             2   \n",
       "6 BRIDGE           7   "
      ]
     },
     "metadata": {},
     "output_type": "display_data"
    }
   ],
   "source": [
    "# group by subject and aggregate\n",
    "df4 = df3 %>%  group_by(subject) %>%\n",
    "            summarize(total=sum(subject_count))\n",
    "\n",
    "head(df4)\n",
    "\n"
   ]
  },
  {
   "cell_type": "code",
   "execution_count": 176,
   "metadata": {},
   "outputs": [],
   "source": [
    "# make a copy to work with\n",
    "df5 = df4\n",
    "\n"
   ]
  },
  {
   "cell_type": "code",
   "execution_count": 177,
   "metadata": {},
   "outputs": [
    {
     "data": {
      "text/html": [
       "<table>\n",
       "<caption>A tibble: 10 × 3</caption>\n",
       "<thead>\n",
       "\t<tr><th scope=col>subject</th><th scope=col>total</th><th scope=col>subject_factor</th></tr>\n",
       "\t<tr><th scope=col>&lt;chr&gt;</th><th scope=col>&lt;dbl&gt;</th><th scope=col>&lt;fct&gt;</th></tr>\n",
       "</thead>\n",
       "<tbody>\n",
       "\t<tr><td>APPLE_FRAME    </td><td>  1</td><td>APPLE_FRAME    </td></tr>\n",
       "\t<tr><td>AURORA_BOREALIS</td><td>  2</td><td>AURORA_BOREALIS</td></tr>\n",
       "\t<tr><td>BARN           </td><td> 17</td><td>BARN           </td></tr>\n",
       "\t<tr><td>BEACH          </td><td> 27</td><td>BEACH          </td></tr>\n",
       "\t<tr><td>BOAT           </td><td>  2</td><td>BOAT           </td></tr>\n",
       "\t<tr><td>BRIDGE         </td><td>  7</td><td>BRIDGE         </td></tr>\n",
       "\t<tr><td>BUILDING       </td><td>  1</td><td>BUILDING       </td></tr>\n",
       "\t<tr><td>BUSHES         </td><td>120</td><td>BUSHES         </td></tr>\n",
       "\t<tr><td>CABIN          </td><td> 69</td><td>CABIN          </td></tr>\n",
       "\t<tr><td>CACTUS         </td><td>  4</td><td>CACTUS         </td></tr>\n",
       "</tbody>\n",
       "</table>\n"
      ],
      "text/latex": [
       "A tibble: 10 × 3\n",
       "\\begin{tabular}{r|lll}\n",
       " subject & total & subject\\_factor\\\\\n",
       " <chr> & <dbl> & <fct>\\\\\n",
       "\\hline\n",
       "\t APPLE\\_FRAME     &   1 & APPLE\\_FRAME    \\\\\n",
       "\t AURORA\\_BOREALIS &   2 & AURORA\\_BOREALIS\\\\\n",
       "\t BARN            &  17 & BARN           \\\\\n",
       "\t BEACH           &  27 & BEACH          \\\\\n",
       "\t BOAT            &   2 & BOAT           \\\\\n",
       "\t BRIDGE          &   7 & BRIDGE         \\\\\n",
       "\t BUILDING        &   1 & BUILDING       \\\\\n",
       "\t BUSHES          & 120 & BUSHES         \\\\\n",
       "\t CABIN           &  69 & CABIN          \\\\\n",
       "\t CACTUS          &   4 & CACTUS         \\\\\n",
       "\\end{tabular}\n"
      ],
      "text/markdown": [
       "\n",
       "A tibble: 10 × 3\n",
       "\n",
       "| subject &lt;chr&gt; | total &lt;dbl&gt; | subject_factor &lt;fct&gt; |\n",
       "|---|---|---|\n",
       "| APPLE_FRAME     |   1 | APPLE_FRAME     |\n",
       "| AURORA_BOREALIS |   2 | AURORA_BOREALIS |\n",
       "| BARN            |  17 | BARN            |\n",
       "| BEACH           |  27 | BEACH           |\n",
       "| BOAT            |   2 | BOAT            |\n",
       "| BRIDGE          |   7 | BRIDGE          |\n",
       "| BUILDING        |   1 | BUILDING        |\n",
       "| BUSHES          | 120 | BUSHES          |\n",
       "| CABIN           |  69 | CABIN           |\n",
       "| CACTUS          |   4 | CACTUS          |\n",
       "\n"
      ],
      "text/plain": [
       "   subject         total subject_factor \n",
       "1  APPLE_FRAME       1   APPLE_FRAME    \n",
       "2  AURORA_BOREALIS   2   AURORA_BOREALIS\n",
       "3  BARN             17   BARN           \n",
       "4  BEACH            27   BEACH          \n",
       "5  BOAT              2   BOAT           \n",
       "6  BRIDGE            7   BRIDGE         \n",
       "7  BUILDING          1   BUILDING       \n",
       "8  BUSHES          120   BUSHES         \n",
       "9  CABIN            69   CABIN          \n",
       "10 CACTUS            4   CACTUS         "
      ]
     },
     "metadata": {},
     "output_type": "display_data"
    }
   ],
   "source": [
    "# add a column to make subject into a factor\n",
    "df5 = mutate(df5, subject_factor=factor(df5$subject))\n",
    "\n",
    "head(df5, n=10)"
   ]
  },
  {
   "cell_type": "code",
   "execution_count": null,
   "metadata": {},
   "outputs": [],
   "source": []
  },
  {
   "cell_type": "code",
   "execution_count": 178,
   "metadata": {},
   "outputs": [
    {
     "data": {
      "text/html": [
       "<table>\n",
       "<caption>A tibble: 25 × 4</caption>\n",
       "<thead>\n",
       "\t<tr><th scope=col>subject</th><th scope=col>total</th><th scope=col>subject_factor</th><th scope=col>name</th></tr>\n",
       "\t<tr><th scope=col>&lt;chr&gt;</th><th scope=col>&lt;dbl&gt;</th><th scope=col>&lt;fct&gt;</th><th scope=col>&lt;fct&gt;</th></tr>\n",
       "</thead>\n",
       "<tbody>\n",
       "\t<tr><td>APPLE_FRAME      </td><td>  1</td><td>APPLE_FRAME      </td><td>Other    </td></tr>\n",
       "\t<tr><td>AURORA_BOREALIS  </td><td>  2</td><td>AURORA_BOREALIS  </td><td>Other    </td></tr>\n",
       "\t<tr><td>BARN             </td><td> 17</td><td>BARN             </td><td>Other    </td></tr>\n",
       "\t<tr><td>BEACH            </td><td> 27</td><td>BEACH            </td><td>Other    </td></tr>\n",
       "\t<tr><td>BOAT             </td><td>  2</td><td>BOAT             </td><td>Other    </td></tr>\n",
       "\t<tr><td>BRIDGE           </td><td>  7</td><td>BRIDGE           </td><td>Other    </td></tr>\n",
       "\t<tr><td>BUILDING         </td><td>  1</td><td>BUILDING         </td><td>Other    </td></tr>\n",
       "\t<tr><td>BUSHES           </td><td>120</td><td>BUSHES           </td><td>BUSHES   </td></tr>\n",
       "\t<tr><td>CABIN            </td><td> 69</td><td>CABIN            </td><td>Other    </td></tr>\n",
       "\t<tr><td>CACTUS           </td><td>  4</td><td>CACTUS           </td><td>Other    </td></tr>\n",
       "\t<tr><td>CIRCLE_FRAME     </td><td>  2</td><td>CIRCLE_FRAME     </td><td>Other    </td></tr>\n",
       "\t<tr><td>CIRRUS           </td><td> 28</td><td>CIRRUS           </td><td>Other    </td></tr>\n",
       "\t<tr><td>CLIFF            </td><td>  8</td><td>CLIFF            </td><td>Other    </td></tr>\n",
       "\t<tr><td>CLOUDS           </td><td>179</td><td>CLOUDS           </td><td>CLOUDS   </td></tr>\n",
       "\t<tr><td>CONIFER          </td><td>212</td><td>CONIFER          </td><td>CONIFER  </td></tr>\n",
       "\t<tr><td>CUMULUS          </td><td> 86</td><td>CUMULUS          </td><td>Other    </td></tr>\n",
       "\t<tr><td>DECIDUOUS        </td><td>227</td><td>DECIDUOUS        </td><td>DECIDUOUS</td></tr>\n",
       "\t<tr><td>DIANE_ANDRE      </td><td>  1</td><td>DIANE_ANDRE      </td><td>Other    </td></tr>\n",
       "\t<tr><td>DOCK             </td><td>  1</td><td>DOCK             </td><td>Other    </td></tr>\n",
       "\t<tr><td>DOUBLE_OVAL_FRAME</td><td>  1</td><td>DOUBLE_OVAL_FRAME</td><td>Other    </td></tr>\n",
       "\t<tr><td>FARM             </td><td>  1</td><td>FARM             </td><td>Other    </td></tr>\n",
       "\t<tr><td>FENCE            </td><td> 24</td><td>FENCE            </td><td>Other    </td></tr>\n",
       "\t<tr><td>FIRE             </td><td>  1</td><td>FIRE             </td><td>Other    </td></tr>\n",
       "\t<tr><td>FLORIDA_FRAME    </td><td>  1</td><td>FLORIDA_FRAME    </td><td>Other    </td></tr>\n",
       "\t<tr><td>FLOWERS          </td><td> 12</td><td>FLOWERS          </td><td>Other    </td></tr>\n",
       "</tbody>\n",
       "</table>\n"
      ],
      "text/latex": [
       "A tibble: 25 × 4\n",
       "\\begin{tabular}{r|llll}\n",
       " subject & total & subject\\_factor & name\\\\\n",
       " <chr> & <dbl> & <fct> & <fct>\\\\\n",
       "\\hline\n",
       "\t APPLE\\_FRAME       &   1 & APPLE\\_FRAME       & Other    \\\\\n",
       "\t AURORA\\_BOREALIS   &   2 & AURORA\\_BOREALIS   & Other    \\\\\n",
       "\t BARN              &  17 & BARN              & Other    \\\\\n",
       "\t BEACH             &  27 & BEACH             & Other    \\\\\n",
       "\t BOAT              &   2 & BOAT              & Other    \\\\\n",
       "\t BRIDGE            &   7 & BRIDGE            & Other    \\\\\n",
       "\t BUILDING          &   1 & BUILDING          & Other    \\\\\n",
       "\t BUSHES            & 120 & BUSHES            & BUSHES   \\\\\n",
       "\t CABIN             &  69 & CABIN             & Other    \\\\\n",
       "\t CACTUS            &   4 & CACTUS            & Other    \\\\\n",
       "\t CIRCLE\\_FRAME      &   2 & CIRCLE\\_FRAME      & Other    \\\\\n",
       "\t CIRRUS            &  28 & CIRRUS            & Other    \\\\\n",
       "\t CLIFF             &   8 & CLIFF             & Other    \\\\\n",
       "\t CLOUDS            & 179 & CLOUDS            & CLOUDS   \\\\\n",
       "\t CONIFER           & 212 & CONIFER           & CONIFER  \\\\\n",
       "\t CUMULUS           &  86 & CUMULUS           & Other    \\\\\n",
       "\t DECIDUOUS         & 227 & DECIDUOUS         & DECIDUOUS\\\\\n",
       "\t DIANE\\_ANDRE       &   1 & DIANE\\_ANDRE       & Other    \\\\\n",
       "\t DOCK              &   1 & DOCK              & Other    \\\\\n",
       "\t DOUBLE\\_OVAL\\_FRAME &   1 & DOUBLE\\_OVAL\\_FRAME & Other    \\\\\n",
       "\t FARM              &   1 & FARM              & Other    \\\\\n",
       "\t FENCE             &  24 & FENCE             & Other    \\\\\n",
       "\t FIRE              &   1 & FIRE              & Other    \\\\\n",
       "\t FLORIDA\\_FRAME     &   1 & FLORIDA\\_FRAME     & Other    \\\\\n",
       "\t FLOWERS           &  12 & FLOWERS           & Other    \\\\\n",
       "\\end{tabular}\n"
      ],
      "text/markdown": [
       "\n",
       "A tibble: 25 × 4\n",
       "\n",
       "| subject &lt;chr&gt; | total &lt;dbl&gt; | subject_factor &lt;fct&gt; | name &lt;fct&gt; |\n",
       "|---|---|---|---|\n",
       "| APPLE_FRAME       |   1 | APPLE_FRAME       | Other     |\n",
       "| AURORA_BOREALIS   |   2 | AURORA_BOREALIS   | Other     |\n",
       "| BARN              |  17 | BARN              | Other     |\n",
       "| BEACH             |  27 | BEACH             | Other     |\n",
       "| BOAT              |   2 | BOAT              | Other     |\n",
       "| BRIDGE            |   7 | BRIDGE            | Other     |\n",
       "| BUILDING          |   1 | BUILDING          | Other     |\n",
       "| BUSHES            | 120 | BUSHES            | BUSHES    |\n",
       "| CABIN             |  69 | CABIN             | Other     |\n",
       "| CACTUS            |   4 | CACTUS            | Other     |\n",
       "| CIRCLE_FRAME      |   2 | CIRCLE_FRAME      | Other     |\n",
       "| CIRRUS            |  28 | CIRRUS            | Other     |\n",
       "| CLIFF             |   8 | CLIFF             | Other     |\n",
       "| CLOUDS            | 179 | CLOUDS            | CLOUDS    |\n",
       "| CONIFER           | 212 | CONIFER           | CONIFER   |\n",
       "| CUMULUS           |  86 | CUMULUS           | Other     |\n",
       "| DECIDUOUS         | 227 | DECIDUOUS         | DECIDUOUS |\n",
       "| DIANE_ANDRE       |   1 | DIANE_ANDRE       | Other     |\n",
       "| DOCK              |   1 | DOCK              | Other     |\n",
       "| DOUBLE_OVAL_FRAME |   1 | DOUBLE_OVAL_FRAME | Other     |\n",
       "| FARM              |   1 | FARM              | Other     |\n",
       "| FENCE             |  24 | FENCE             | Other     |\n",
       "| FIRE              |   1 | FIRE              | Other     |\n",
       "| FLORIDA_FRAME     |   1 | FLORIDA_FRAME     | Other     |\n",
       "| FLOWERS           |  12 | FLOWERS           | Other     |\n",
       "\n"
      ],
      "text/plain": [
       "   subject           total subject_factor    name     \n",
       "1  APPLE_FRAME         1   APPLE_FRAME       Other    \n",
       "2  AURORA_BOREALIS     2   AURORA_BOREALIS   Other    \n",
       "3  BARN               17   BARN              Other    \n",
       "4  BEACH              27   BEACH             Other    \n",
       "5  BOAT                2   BOAT              Other    \n",
       "6  BRIDGE              7   BRIDGE            Other    \n",
       "7  BUILDING            1   BUILDING          Other    \n",
       "8  BUSHES            120   BUSHES            BUSHES   \n",
       "9  CABIN              69   CABIN             Other    \n",
       "10 CACTUS              4   CACTUS            Other    \n",
       "11 CIRCLE_FRAME        2   CIRCLE_FRAME      Other    \n",
       "12 CIRRUS             28   CIRRUS            Other    \n",
       "13 CLIFF               8   CLIFF             Other    \n",
       "14 CLOUDS            179   CLOUDS            CLOUDS   \n",
       "15 CONIFER           212   CONIFER           CONIFER  \n",
       "16 CUMULUS            86   CUMULUS           Other    \n",
       "17 DECIDUOUS         227   DECIDUOUS         DECIDUOUS\n",
       "18 DIANE_ANDRE         1   DIANE_ANDRE       Other    \n",
       "19 DOCK                1   DOCK              Other    \n",
       "20 DOUBLE_OVAL_FRAME   1   DOUBLE_OVAL_FRAME Other    \n",
       "21 FARM                1   FARM              Other    \n",
       "22 FENCE              24   FENCE             Other    \n",
       "23 FIRE                1   FIRE              Other    \n",
       "24 FLORIDA_FRAME       1   FLORIDA_FRAME     Other    \n",
       "25 FLOWERS            12   FLOWERS           Other    "
      ]
     },
     "metadata": {},
     "output_type": "display_data"
    }
   ],
   "source": [
    "# use forcats to find the top 10 in frequency and to lump the remaining values into a category \"Other\"\n",
    "df6 = df5 %>%  mutate(name=fct_lump(subject_factor, w = total, n = 10))\n",
    "\n",
    "head(df6, n=25)"
   ]
  },
  {
   "cell_type": "code",
   "execution_count": 179,
   "metadata": {},
   "outputs": [
    {
     "data": {
      "text/html": [
       "<table>\n",
       "<caption>A tibble: 15 × 2</caption>\n",
       "<thead>\n",
       "\t<tr><th scope=col>total</th><th scope=col>name</th></tr>\n",
       "\t<tr><th scope=col>&lt;dbl&gt;</th><th scope=col>&lt;fct&gt;</th></tr>\n",
       "</thead>\n",
       "<tbody>\n",
       "\t<tr><td>  1</td><td>Other  </td></tr>\n",
       "\t<tr><td>  2</td><td>Other  </td></tr>\n",
       "\t<tr><td> 17</td><td>Other  </td></tr>\n",
       "\t<tr><td> 27</td><td>Other  </td></tr>\n",
       "\t<tr><td>  2</td><td>Other  </td></tr>\n",
       "\t<tr><td>  7</td><td>Other  </td></tr>\n",
       "\t<tr><td>  1</td><td>Other  </td></tr>\n",
       "\t<tr><td>120</td><td>BUSHES </td></tr>\n",
       "\t<tr><td> 69</td><td>Other  </td></tr>\n",
       "\t<tr><td>  4</td><td>Other  </td></tr>\n",
       "\t<tr><td>  2</td><td>Other  </td></tr>\n",
       "\t<tr><td> 28</td><td>Other  </td></tr>\n",
       "\t<tr><td>  8</td><td>Other  </td></tr>\n",
       "\t<tr><td>179</td><td>CLOUDS </td></tr>\n",
       "\t<tr><td>212</td><td>CONIFER</td></tr>\n",
       "</tbody>\n",
       "</table>\n"
      ],
      "text/latex": [
       "A tibble: 15 × 2\n",
       "\\begin{tabular}{r|ll}\n",
       " total & name\\\\\n",
       " <dbl> & <fct>\\\\\n",
       "\\hline\n",
       "\t   1 & Other  \\\\\n",
       "\t   2 & Other  \\\\\n",
       "\t  17 & Other  \\\\\n",
       "\t  27 & Other  \\\\\n",
       "\t   2 & Other  \\\\\n",
       "\t   7 & Other  \\\\\n",
       "\t   1 & Other  \\\\\n",
       "\t 120 & BUSHES \\\\\n",
       "\t  69 & Other  \\\\\n",
       "\t   4 & Other  \\\\\n",
       "\t   2 & Other  \\\\\n",
       "\t  28 & Other  \\\\\n",
       "\t   8 & Other  \\\\\n",
       "\t 179 & CLOUDS \\\\\n",
       "\t 212 & CONIFER\\\\\n",
       "\\end{tabular}\n"
      ],
      "text/markdown": [
       "\n",
       "A tibble: 15 × 2\n",
       "\n",
       "| total &lt;dbl&gt; | name &lt;fct&gt; |\n",
       "|---|---|\n",
       "|   1 | Other   |\n",
       "|   2 | Other   |\n",
       "|  17 | Other   |\n",
       "|  27 | Other   |\n",
       "|   2 | Other   |\n",
       "|   7 | Other   |\n",
       "|   1 | Other   |\n",
       "| 120 | BUSHES  |\n",
       "|  69 | Other   |\n",
       "|   4 | Other   |\n",
       "|   2 | Other   |\n",
       "|  28 | Other   |\n",
       "|   8 | Other   |\n",
       "| 179 | CLOUDS  |\n",
       "| 212 | CONIFER |\n",
       "\n"
      ],
      "text/plain": [
       "   total name   \n",
       "1    1   Other  \n",
       "2    2   Other  \n",
       "3   17   Other  \n",
       "4   27   Other  \n",
       "5    2   Other  \n",
       "6    7   Other  \n",
       "7    1   Other  \n",
       "8  120   BUSHES \n",
       "9   69   Other  \n",
       "10   4   Other  \n",
       "11   2   Other  \n",
       "12  28   Other  \n",
       "13   8   Other  \n",
       "14 179   CLOUDS \n",
       "15 212   CONIFER"
      ]
     },
     "metadata": {},
     "output_type": "display_data"
    }
   ],
   "source": [
    "# drop the subject and subject_factor variables\n",
    "df6 = select (df6,-c(subject, subject_factor))\n",
    "\n",
    "head(df6, n=15)"
   ]
  },
  {
   "cell_type": "code",
   "execution_count": 180,
   "metadata": {},
   "outputs": [
    {
     "data": {
      "text/html": [
       "<table>\n",
       "<caption>A tibble: 11 × 2</caption>\n",
       "<thead>\n",
       "\t<tr><th scope=col>name</th><th scope=col>total</th></tr>\n",
       "\t<tr><th scope=col>&lt;fct&gt;</th><th scope=col>&lt;dbl&gt;</th></tr>\n",
       "</thead>\n",
       "<tbody>\n",
       "\t<tr><td>BUSHES   </td><td> 120</td></tr>\n",
       "\t<tr><td>CLOUDS   </td><td> 179</td></tr>\n",
       "\t<tr><td>CONIFER  </td><td> 212</td></tr>\n",
       "\t<tr><td>DECIDUOUS</td><td> 227</td></tr>\n",
       "\t<tr><td>GRASS    </td><td> 142</td></tr>\n",
       "\t<tr><td>LAKE     </td><td> 143</td></tr>\n",
       "\t<tr><td>MOUNTAIN </td><td> 160</td></tr>\n",
       "\t<tr><td>RIVER    </td><td> 126</td></tr>\n",
       "\t<tr><td>TREE     </td><td> 361</td></tr>\n",
       "\t<tr><td>TREES    </td><td> 337</td></tr>\n",
       "\t<tr><td>Other    </td><td>1214</td></tr>\n",
       "</tbody>\n",
       "</table>\n"
      ],
      "text/latex": [
       "A tibble: 11 × 2\n",
       "\\begin{tabular}{r|ll}\n",
       " name & total\\\\\n",
       " <fct> & <dbl>\\\\\n",
       "\\hline\n",
       "\t BUSHES    &  120\\\\\n",
       "\t CLOUDS    &  179\\\\\n",
       "\t CONIFER   &  212\\\\\n",
       "\t DECIDUOUS &  227\\\\\n",
       "\t GRASS     &  142\\\\\n",
       "\t LAKE      &  143\\\\\n",
       "\t MOUNTAIN  &  160\\\\\n",
       "\t RIVER     &  126\\\\\n",
       "\t TREE      &  361\\\\\n",
       "\t TREES     &  337\\\\\n",
       "\t Other     & 1214\\\\\n",
       "\\end{tabular}\n"
      ],
      "text/markdown": [
       "\n",
       "A tibble: 11 × 2\n",
       "\n",
       "| name &lt;fct&gt; | total &lt;dbl&gt; |\n",
       "|---|---|\n",
       "| BUSHES    |  120 |\n",
       "| CLOUDS    |  179 |\n",
       "| CONIFER   |  212 |\n",
       "| DECIDUOUS |  227 |\n",
       "| GRASS     |  142 |\n",
       "| LAKE      |  143 |\n",
       "| MOUNTAIN  |  160 |\n",
       "| RIVER     |  126 |\n",
       "| TREE      |  361 |\n",
       "| TREES     |  337 |\n",
       "| Other     | 1214 |\n",
       "\n"
      ],
      "text/plain": [
       "   name      total\n",
       "1  BUSHES     120 \n",
       "2  CLOUDS     179 \n",
       "3  CONIFER    212 \n",
       "4  DECIDUOUS  227 \n",
       "5  GRASS      142 \n",
       "6  LAKE       143 \n",
       "7  MOUNTAIN   160 \n",
       "8  RIVER      126 \n",
       "9  TREE       361 \n",
       "10 TREES      337 \n",
       "11 Other     1214 "
      ]
     },
     "metadata": {},
     "output_type": "display_data"
    }
   ],
   "source": [
    "# aggregate again to get counts for other\n",
    "df7 = df6 %>%  group_by(name) %>%\n",
    "            summarize(total=sum(total))\n",
    "\n",
    "head(df7, n=15)\n"
   ]
  },
  {
   "cell_type": "code",
   "execution_count": 181,
   "metadata": {},
   "outputs": [
    {
     "data": {
      "text/html": [
       "<table>\n",
       "<caption>A tibble: 11 × 2</caption>\n",
       "<thead>\n",
       "\t<tr><th scope=col>name</th><th scope=col>total</th></tr>\n",
       "\t<tr><th scope=col>&lt;fct&gt;</th><th scope=col>&lt;dbl&gt;</th></tr>\n",
       "</thead>\n",
       "<tbody>\n",
       "\t<tr><td>BUSHES   </td><td> 120</td></tr>\n",
       "\t<tr><td>CLOUDS   </td><td> 179</td></tr>\n",
       "\t<tr><td>CONIFER  </td><td> 212</td></tr>\n",
       "\t<tr><td>DECIDUOUS</td><td> 227</td></tr>\n",
       "\t<tr><td>GRASS    </td><td> 142</td></tr>\n",
       "\t<tr><td>LAKE     </td><td> 143</td></tr>\n",
       "\t<tr><td>MOUNTAIN </td><td> 160</td></tr>\n",
       "\t<tr><td>RIVER    </td><td> 126</td></tr>\n",
       "\t<tr><td>TREE     </td><td> 361</td></tr>\n",
       "\t<tr><td>TREES    </td><td> 337</td></tr>\n",
       "\t<tr><td>Other    </td><td>1214</td></tr>\n",
       "</tbody>\n",
       "</table>\n"
      ],
      "text/latex": [
       "A tibble: 11 × 2\n",
       "\\begin{tabular}{r|ll}\n",
       " name & total\\\\\n",
       " <fct> & <dbl>\\\\\n",
       "\\hline\n",
       "\t BUSHES    &  120\\\\\n",
       "\t CLOUDS    &  179\\\\\n",
       "\t CONIFER   &  212\\\\\n",
       "\t DECIDUOUS &  227\\\\\n",
       "\t GRASS     &  142\\\\\n",
       "\t LAKE      &  143\\\\\n",
       "\t MOUNTAIN  &  160\\\\\n",
       "\t RIVER     &  126\\\\\n",
       "\t TREE      &  361\\\\\n",
       "\t TREES     &  337\\\\\n",
       "\t Other     & 1214\\\\\n",
       "\\end{tabular}\n"
      ],
      "text/markdown": [
       "\n",
       "A tibble: 11 × 2\n",
       "\n",
       "| name &lt;fct&gt; | total &lt;dbl&gt; |\n",
       "|---|---|\n",
       "| BUSHES    |  120 |\n",
       "| CLOUDS    |  179 |\n",
       "| CONIFER   |  212 |\n",
       "| DECIDUOUS |  227 |\n",
       "| GRASS     |  142 |\n",
       "| LAKE      |  143 |\n",
       "| MOUNTAIN  |  160 |\n",
       "| RIVER     |  126 |\n",
       "| TREE      |  361 |\n",
       "| TREES     |  337 |\n",
       "| Other     | 1214 |\n",
       "\n"
      ],
      "text/plain": [
       "   name      total\n",
       "1  BUSHES     120 \n",
       "2  CLOUDS     179 \n",
       "3  CONIFER    212 \n",
       "4  DECIDUOUS  227 \n",
       "5  GRASS      142 \n",
       "6  LAKE       143 \n",
       "7  MOUNTAIN   160 \n",
       "8  RIVER      126 \n",
       "9  TREE       361 \n",
       "10 TREES      337 \n",
       "11 Other     1214 "
      ]
     },
     "metadata": {},
     "output_type": "display_data"
    },
    {
     "data": {
      "text/html": [
       "<table>\n",
       "<caption>A tibble: 11 × 2</caption>\n",
       "<thead>\n",
       "\t<tr><th scope=col>name</th><th scope=col>total</th></tr>\n",
       "\t<tr><th scope=col>&lt;fct&gt;</th><th scope=col>&lt;dbl&gt;</th></tr>\n",
       "</thead>\n",
       "<tbody>\n",
       "\t<tr><td>BUSHES   </td><td> 120</td></tr>\n",
       "\t<tr><td>CLOUDS   </td><td> 179</td></tr>\n",
       "\t<tr><td>CONIFER  </td><td> 212</td></tr>\n",
       "\t<tr><td>DECIDUOUS</td><td> 227</td></tr>\n",
       "\t<tr><td>GRASS    </td><td> 142</td></tr>\n",
       "\t<tr><td>LAKE     </td><td> 143</td></tr>\n",
       "\t<tr><td>MOUNTAIN </td><td> 160</td></tr>\n",
       "\t<tr><td>RIVER    </td><td> 126</td></tr>\n",
       "\t<tr><td>TREE     </td><td> 361</td></tr>\n",
       "\t<tr><td>TREES    </td><td> 337</td></tr>\n",
       "\t<tr><td>Other    </td><td>1214</td></tr>\n",
       "</tbody>\n",
       "</table>\n"
      ],
      "text/latex": [
       "A tibble: 11 × 2\n",
       "\\begin{tabular}{r|ll}\n",
       " name & total\\\\\n",
       " <fct> & <dbl>\\\\\n",
       "\\hline\n",
       "\t BUSHES    &  120\\\\\n",
       "\t CLOUDS    &  179\\\\\n",
       "\t CONIFER   &  212\\\\\n",
       "\t DECIDUOUS &  227\\\\\n",
       "\t GRASS     &  142\\\\\n",
       "\t LAKE      &  143\\\\\n",
       "\t MOUNTAIN  &  160\\\\\n",
       "\t RIVER     &  126\\\\\n",
       "\t TREE      &  361\\\\\n",
       "\t TREES     &  337\\\\\n",
       "\t Other     & 1214\\\\\n",
       "\\end{tabular}\n"
      ],
      "text/markdown": [
       "\n",
       "A tibble: 11 × 2\n",
       "\n",
       "| name &lt;fct&gt; | total &lt;dbl&gt; |\n",
       "|---|---|\n",
       "| BUSHES    |  120 |\n",
       "| CLOUDS    |  179 |\n",
       "| CONIFER   |  212 |\n",
       "| DECIDUOUS |  227 |\n",
       "| GRASS     |  142 |\n",
       "| LAKE      |  143 |\n",
       "| MOUNTAIN  |  160 |\n",
       "| RIVER     |  126 |\n",
       "| TREE      |  361 |\n",
       "| TREES     |  337 |\n",
       "| Other     | 1214 |\n",
       "\n"
      ],
      "text/plain": [
       "   name      total\n",
       "1  BUSHES     120 \n",
       "2  CLOUDS     179 \n",
       "3  CONIFER    212 \n",
       "4  DECIDUOUS  227 \n",
       "5  GRASS      142 \n",
       "6  LAKE       143 \n",
       "7  MOUNTAIN   160 \n",
       "8  RIVER      126 \n",
       "9  TREE       361 \n",
       "10 TREES      337 \n",
       "11 Other     1214 "
      ]
     },
     "metadata": {},
     "output_type": "display_data"
    }
   ],
   "source": [
    "# use fct_reorder to put the subjects in order\n",
    "df7 %>%\n",
    "   mutate(name = fct_reorder(name, total))\n",
    "\n",
    "df7"
   ]
  },
  {
   "cell_type": "code",
   "execution_count": 182,
   "metadata": {},
   "outputs": [
    {
     "data": {
      "image/png": "[encoded data removed]",
      "text/plain": [
       "plot without title"
      ]
     },
     "metadata": {},
     "output_type": "display_data"
    }
   ],
   "source": [
    "# create the plot\n",
    "\n",
    "p = ggplot(df7, aes(name, total))\n",
    "p = p + geom_bar(stat='identity', fill='#01A9DB')\n",
    "p = p + coord_flip() + geom_text(label=df7$total, hjust=-0.35, size=3)\n",
    "p"
   ]
  },
  {
   "cell_type": "code",
   "execution_count": 183,
   "metadata": {},
   "outputs": [
    {
     "data": {
      "image/png": "[encoded data removed]",
      "text/plain": [
       "plot without title"
      ]
     },
     "metadata": {},
     "output_type": "display_data"
    }
   ],
   "source": [
    "# fct_reorder didn't work, so reorder this way\n",
    "\n",
    "p = ggplot(df7, aes(reorder(name, total), total))\n",
    "p = p + geom_bar(stat='identity', fill='#01A9DB')\n",
    "p = p + coord_flip() + geom_text(label=df7$total, hjust=-0.35, size=3)\n",
    "p"
   ]
  },
  {
   "cell_type": "code",
   "execution_count": 184,
   "metadata": {},
   "outputs": [
    {
     "data": {
      "image/png": "[encoded data removed]",
      "text/plain": [
       "plot without title"
      ]
     },
     "metadata": {},
     "output_type": "display_data"
    }
   ],
   "source": [
    "# improve the plot by adding title and adjusting other elements\n",
    "\n",
    "p = p + ggtitle(\"The Paintings of Bob Ross\", subtitle=\"Counts by Subject\")\n",
    "p = p + theme(plot.title=element_text(size=20, face=\"bold\"),  \n",
    "              plot.subtitle=element_text(size=15, face=\"bold\"),\n",
    "              axis.text.x=element_blank(),\n",
    "              axis.text.y=element_text(color=\"black\", size=9),\n",
    "              axis.title.y=element_blank(),\n",
    "              axis.title.x=element_blank(),\n",
    "              axis.ticks=element_blank(),\n",
    "              panel.grid.major=element_blank(),\n",
    "              panel.grid.minor=element_blank(),\n",
    "              panel.background=element_rect(fill=\"#F2F2F2\"))\n",
    "p"
   ]
  },
  {
   "cell_type": "code",
   "execution_count": null,
   "metadata": {},
   "outputs": [],
   "source": []
  },
  {
   "cell_type": "code",
   "execution_count": null,
   "metadata": {},
   "outputs": [],
   "source": []
  },
  {
   "cell_type": "code",
   "execution_count": null,
   "metadata": {},
   "outputs": [],
   "source": []
  },
  {
   "cell_type": "markdown",
   "metadata": {},
   "source": [
    "We are going to re-create a FiveThirtyEight analysis for this assignment."
   ]
  },
  {
   "cell_type": "markdown",
   "metadata": {},
   "source": [
    "The data can be found here:  \n",
    "\n",
    "[https://github.com/fivethirtyeight/data/blob/master/bob-ross/elements-by-episode.csv](https://github.com/fivethirtyeight/data/blob/master/bob-ross/elements-by-episode.csv)"
   ]
  },
  {
   "cell_type": "markdown",
   "metadata": {},
   "source": [
    "Using the data, re-create this figure from the article:\n",
    "\n",
    "<img src=\"https://fivethirtyeight.com/wp-content/uploads/2014/04/hickey-ross-tags-1.png\" style=\"width: 500px\" />"
   ]
  },
  {
   "cell_type": "markdown",
   "metadata": {},
   "source": [
    "In your version of this figure,\n",
    "\n",
    "1. **Don't worry about using the variable names exactly as in the article (_i.e._ just use the column names from the original data).**\n",
    "1. **Plot counts instead of percentages.**\n",
    "1. **Only show the top ten categories by count and group the remaining categories into a category named 'Other'.** "
   ]
  },
  {
   "cell_type": "code",
   "execution_count": null,
   "metadata": {},
   "outputs": [],
   "source": []
  },
  {
   "cell_type": "code",
   "execution_count": null,
   "metadata": {},
   "outputs": [],
   "source": []
  },
  {
   "cell_type": "code",
   "execution_count": null,
   "metadata": {},
   "outputs": [],
   "source": []
  },
  {
   "cell_type": "code",
   "execution_count": null,
   "metadata": {},
   "outputs": [],
   "source": []
  }
 ],
 "metadata": {
  "kernelspec": {
   "display_name": "R",
   "language": "R",
   "name": "ir"
  },
  "language_info": {
   "codemirror_mode": "r",
   "file_extension": ".r",
   "mimetype": "text/x-r-source",
   "name": "R",
   "pygments_lexer": "r",
   "version": "3.5.2"
  }
 },
 "nbformat": 4,
 "nbformat_minor": 2
}
