{
 "cells": [
  {
   "cell_type": "markdown",
   "metadata": {},
   "source": [
    "# Diane Rodden\n",
    "## 09_dplyr_practice"
   ]
  },
  {
   "cell_type": "code",
   "execution_count": 32,
   "metadata": {},
   "outputs": [],
   "source": [
    "library('tidyverse')"
   ]
  },
  {
   "cell_type": "code",
   "execution_count": 33,
   "metadata": {},
   "outputs": [
    {
     "data": {
      "text/html": [
       "<table>\n",
       "<caption>A data.frame: 6 × 7</caption>\n",
       "<thead>\n",
       "\t<tr><th scope=col>year</th><th scope=col>name</th><th scope=col>country</th><th scope=col>time</th><th scope=col>race.time</th><th scope=col>MF</th><th scope=col>country.simple</th></tr>\n",
       "\t<tr><th scope=col>&lt;int&gt;</th><th scope=col>&lt;fct&gt;</th><th scope=col>&lt;fct&gt;</th><th scope=col>&lt;fct&gt;</th><th scope=col>&lt;dbl&gt;</th><th scope=col>&lt;fct&gt;</th><th scope=col>&lt;fct&gt;</th></tr>\n",
       "</thead>\n",
       "<tbody>\n",
       "\t<tr><td>2019</td><td>Lawrence Cherono          </td><td>Kenya        </td><td>2H 7M 57S </td><td>2.132500</td><td>Men's</td><td>Kenya        </td></tr>\n",
       "\t<tr><td>2018</td><td>Yuki Kawauchi             </td><td>Japan        </td><td>2H 15M 58S</td><td>2.266111</td><td>Men's</td><td>Japan        </td></tr>\n",
       "\t<tr><td>2017</td><td>Geoffrey Kirui            </td><td>Kenya        </td><td>2H 9M 37S </td><td>2.160278</td><td>Men's</td><td>Kenya        </td></tr>\n",
       "\t<tr><td>2016</td><td>Lemi Berhanu              </td><td>Ethiopia     </td><td>2H 12M 45S</td><td>2.212500</td><td>Men's</td><td>Ethiopia     </td></tr>\n",
       "\t<tr><td>2015</td><td>Lelisa Desisa             </td><td>Ethiopia     </td><td>2H 9M 17S </td><td>2.154722</td><td>Men's</td><td>Ethiopia     </td></tr>\n",
       "\t<tr><td>2014</td><td>Mebrahtom \"Meb\" Keflezighi</td><td>United States</td><td>2H 8M 37S </td><td>2.143611</td><td>Men's</td><td>United States</td></tr>\n",
       "</tbody>\n",
       "</table>\n"
      ],
      "text/latex": [
       "A data.frame: 6 × 7\n",
       "\\begin{tabular}{r|lllllll}\n",
       " year & name & country & time & race.time & MF & country.simple\\\\\n",
       " <int> & <fct> & <fct> & <fct> & <dbl> & <fct> & <fct>\\\\\n",
       "\\hline\n",
       "\t 2019 & Lawrence Cherono           & Kenya         & 2H 7M 57S  & 2.132500 & Men's & Kenya        \\\\\n",
       "\t 2018 & Yuki Kawauchi              & Japan         & 2H 15M 58S & 2.266111 & Men's & Japan        \\\\\n",
       "\t 2017 & Geoffrey Kirui             & Kenya         & 2H 9M 37S  & 2.160278 & Men's & Kenya        \\\\\n",
       "\t 2016 & Lemi Berhanu               & Ethiopia      & 2H 12M 45S & 2.212500 & Men's & Ethiopia     \\\\\n",
       "\t 2015 & Lelisa Desisa              & Ethiopia      & 2H 9M 17S  & 2.154722 & Men's & Ethiopia     \\\\\n",
       "\t 2014 & Mebrahtom \"Meb\" Keflezighi & United States & 2H 8M 37S  & 2.143611 & Men's & United States\\\\\n",
       "\\end{tabular}\n"
      ],
      "text/markdown": [
       "\n",
       "A data.frame: 6 × 7\n",
       "\n",
       "| year &lt;int&gt; | name &lt;fct&gt; | country &lt;fct&gt; | time &lt;fct&gt; | race.time &lt;dbl&gt; | MF &lt;fct&gt; | country.simple &lt;fct&gt; |\n",
       "|---|---|---|---|---|---|---|\n",
       "| 2019 | Lawrence Cherono           | Kenya         | 2H 7M 57S  | 2.132500 | Men's | Kenya         |\n",
       "| 2018 | Yuki Kawauchi              | Japan         | 2H 15M 58S | 2.266111 | Men's | Japan         |\n",
       "| 2017 | Geoffrey Kirui             | Kenya         | 2H 9M 37S  | 2.160278 | Men's | Kenya         |\n",
       "| 2016 | Lemi Berhanu               | Ethiopia      | 2H 12M 45S | 2.212500 | Men's | Ethiopia      |\n",
       "| 2015 | Lelisa Desisa              | Ethiopia      | 2H 9M 17S  | 2.154722 | Men's | Ethiopia      |\n",
       "| 2014 | Mebrahtom \"Meb\" Keflezighi | United States | 2H 8M 37S  | 2.143611 | Men's | United States |\n",
       "\n"
      ],
      "text/plain": [
       "  year name                       country       time       race.time MF   \n",
       "1 2019 Lawrence Cherono           Kenya         2H 7M 57S  2.132500  Men's\n",
       "2 2018 Yuki Kawauchi              Japan         2H 15M 58S 2.266111  Men's\n",
       "3 2017 Geoffrey Kirui             Kenya         2H 9M 37S  2.160278  Men's\n",
       "4 2016 Lemi Berhanu               Ethiopia      2H 12M 45S 2.212500  Men's\n",
       "5 2015 Lelisa Desisa              Ethiopia      2H 9M 17S  2.154722  Men's\n",
       "6 2014 Mebrahtom \"Meb\" Keflezighi United States 2H 8M 37S  2.143611  Men's\n",
       "  country.simple\n",
       "1 Kenya         \n",
       "2 Japan         \n",
       "3 Kenya         \n",
       "4 Ethiopia      \n",
       "5 Ethiopia      \n",
       "6 United States "
      ]
     },
     "metadata": {},
     "output_type": "display_data"
    }
   ],
   "source": [
    "df.marathon = read.csv('../data/marathon.csv')\n",
    "df.marathon %>% head"
   ]
  },
  {
   "cell_type": "markdown",
   "metadata": {},
   "source": [
    "# Filter"
   ]
  },
  {
   "cell_type": "markdown",
   "metadata": {},
   "source": [
    "- the filter operation does exactly what you expect given its name."
   ]
  },
  {
   "cell_type": "code",
   "execution_count": 34,
   "metadata": {},
   "outputs": [
    {
     "data": {
      "text/html": [
       "<table>\n",
       "<caption>A data.frame: 16 × 5</caption>\n",
       "<thead>\n",
       "\t<tr><th scope=col>Sepal.Length</th><th scope=col>Sepal.Width</th><th scope=col>Petal.Length</th><th scope=col>Petal.Width</th><th scope=col>Species</th></tr>\n",
       "\t<tr><th scope=col>&lt;dbl&gt;</th><th scope=col>&lt;dbl&gt;</th><th scope=col>&lt;dbl&gt;</th><th scope=col>&lt;dbl&gt;</th><th scope=col>&lt;fct&gt;</th></tr>\n",
       "</thead>\n",
       "<tbody>\n",
       "\t<tr><td>5.4</td><td>3.9</td><td>1.7</td><td>0.4</td><td>setosa</td></tr>\n",
       "\t<tr><td>4.6</td><td>3.4</td><td>1.4</td><td>0.3</td><td>setosa</td></tr>\n",
       "\t<tr><td>5.7</td><td>4.4</td><td>1.5</td><td>0.4</td><td>setosa</td></tr>\n",
       "\t<tr><td>5.4</td><td>3.9</td><td>1.3</td><td>0.4</td><td>setosa</td></tr>\n",
       "\t<tr><td>5.1</td><td>3.5</td><td>1.4</td><td>0.3</td><td>setosa</td></tr>\n",
       "\t<tr><td>5.7</td><td>3.8</td><td>1.7</td><td>0.3</td><td>setosa</td></tr>\n",
       "\t<tr><td>5.1</td><td>3.8</td><td>1.5</td><td>0.3</td><td>setosa</td></tr>\n",
       "\t<tr><td>5.1</td><td>3.7</td><td>1.5</td><td>0.4</td><td>setosa</td></tr>\n",
       "\t<tr><td>5.1</td><td>3.3</td><td>1.7</td><td>0.5</td><td>setosa</td></tr>\n",
       "\t<tr><td>5.0</td><td>3.4</td><td>1.6</td><td>0.4</td><td>setosa</td></tr>\n",
       "\t<tr><td>5.4</td><td>3.4</td><td>1.5</td><td>0.4</td><td>setosa</td></tr>\n",
       "\t<tr><td>5.0</td><td>3.5</td><td>1.3</td><td>0.3</td><td>setosa</td></tr>\n",
       "\t<tr><td>4.5</td><td>2.3</td><td>1.3</td><td>0.3</td><td>setosa</td></tr>\n",
       "\t<tr><td>5.0</td><td>3.5</td><td>1.6</td><td>0.6</td><td>setosa</td></tr>\n",
       "\t<tr><td>5.1</td><td>3.8</td><td>1.9</td><td>0.4</td><td>setosa</td></tr>\n",
       "\t<tr><td>4.8</td><td>3.0</td><td>1.4</td><td>0.3</td><td>setosa</td></tr>\n",
       "</tbody>\n",
       "</table>\n"
      ],
      "text/latex": [
       "A data.frame: 16 × 5\n",
       "\\begin{tabular}{r|lllll}\n",
       " Sepal.Length & Sepal.Width & Petal.Length & Petal.Width & Species\\\\\n",
       " <dbl> & <dbl> & <dbl> & <dbl> & <fct>\\\\\n",
       "\\hline\n",
       "\t 5.4 & 3.9 & 1.7 & 0.4 & setosa\\\\\n",
       "\t 4.6 & 3.4 & 1.4 & 0.3 & setosa\\\\\n",
       "\t 5.7 & 4.4 & 1.5 & 0.4 & setosa\\\\\n",
       "\t 5.4 & 3.9 & 1.3 & 0.4 & setosa\\\\\n",
       "\t 5.1 & 3.5 & 1.4 & 0.3 & setosa\\\\\n",
       "\t 5.7 & 3.8 & 1.7 & 0.3 & setosa\\\\\n",
       "\t 5.1 & 3.8 & 1.5 & 0.3 & setosa\\\\\n",
       "\t 5.1 & 3.7 & 1.5 & 0.4 & setosa\\\\\n",
       "\t 5.1 & 3.3 & 1.7 & 0.5 & setosa\\\\\n",
       "\t 5.0 & 3.4 & 1.6 & 0.4 & setosa\\\\\n",
       "\t 5.4 & 3.4 & 1.5 & 0.4 & setosa\\\\\n",
       "\t 5.0 & 3.5 & 1.3 & 0.3 & setosa\\\\\n",
       "\t 4.5 & 2.3 & 1.3 & 0.3 & setosa\\\\\n",
       "\t 5.0 & 3.5 & 1.6 & 0.6 & setosa\\\\\n",
       "\t 5.1 & 3.8 & 1.9 & 0.4 & setosa\\\\\n",
       "\t 4.8 & 3.0 & 1.4 & 0.3 & setosa\\\\\n",
       "\\end{tabular}\n"
      ],
      "text/markdown": [
       "\n",
       "A data.frame: 16 × 5\n",
       "\n",
       "| Sepal.Length &lt;dbl&gt; | Sepal.Width &lt;dbl&gt; | Petal.Length &lt;dbl&gt; | Petal.Width &lt;dbl&gt; | Species &lt;fct&gt; |\n",
       "|---|---|---|---|---|\n",
       "| 5.4 | 3.9 | 1.7 | 0.4 | setosa |\n",
       "| 4.6 | 3.4 | 1.4 | 0.3 | setosa |\n",
       "| 5.7 | 4.4 | 1.5 | 0.4 | setosa |\n",
       "| 5.4 | 3.9 | 1.3 | 0.4 | setosa |\n",
       "| 5.1 | 3.5 | 1.4 | 0.3 | setosa |\n",
       "| 5.7 | 3.8 | 1.7 | 0.3 | setosa |\n",
       "| 5.1 | 3.8 | 1.5 | 0.3 | setosa |\n",
       "| 5.1 | 3.7 | 1.5 | 0.4 | setosa |\n",
       "| 5.1 | 3.3 | 1.7 | 0.5 | setosa |\n",
       "| 5.0 | 3.4 | 1.6 | 0.4 | setosa |\n",
       "| 5.4 | 3.4 | 1.5 | 0.4 | setosa |\n",
       "| 5.0 | 3.5 | 1.3 | 0.3 | setosa |\n",
       "| 4.5 | 2.3 | 1.3 | 0.3 | setosa |\n",
       "| 5.0 | 3.5 | 1.6 | 0.6 | setosa |\n",
       "| 5.1 | 3.8 | 1.9 | 0.4 | setosa |\n",
       "| 4.8 | 3.0 | 1.4 | 0.3 | setosa |\n",
       "\n"
      ],
      "text/plain": [
       "   Sepal.Length Sepal.Width Petal.Length Petal.Width Species\n",
       "1  5.4          3.9         1.7          0.4         setosa \n",
       "2  4.6          3.4         1.4          0.3         setosa \n",
       "3  5.7          4.4         1.5          0.4         setosa \n",
       "4  5.4          3.9         1.3          0.4         setosa \n",
       "5  5.1          3.5         1.4          0.3         setosa \n",
       "6  5.7          3.8         1.7          0.3         setosa \n",
       "7  5.1          3.8         1.5          0.3         setosa \n",
       "8  5.1          3.7         1.5          0.4         setosa \n",
       "9  5.1          3.3         1.7          0.5         setosa \n",
       "10 5.0          3.4         1.6          0.4         setosa \n",
       "11 5.4          3.4         1.5          0.4         setosa \n",
       "12 5.0          3.5         1.3          0.3         setosa \n",
       "13 4.5          2.3         1.3          0.3         setosa \n",
       "14 5.0          3.5         1.6          0.6         setosa \n",
       "15 5.1          3.8         1.9          0.4         setosa \n",
       "16 4.8          3.0         1.4          0.3         setosa "
      ]
     },
     "metadata": {},
     "output_type": "display_data"
    }
   ],
   "source": [
    "# e.g.\n",
    "\n",
    "iris %>% filter(Species == 'setosa', Petal.Width > 0.2)"
   ]
  },
  {
   "cell_type": "markdown",
   "metadata": {},
   "source": [
    "- The syntax for the `equals` operator in R is `==`.\n",
    "- Greater than (`>` or `>=`) and less than (`<` or `<=`) are intuitive.\n",
    "- You can fitler on multiple columns by adding arguments to the filter operation."
   ]
  },
  {
   "cell_type": "markdown",
   "metadata": {},
   "source": [
    "Filter the marathon data to just the runners from Kenya."
   ]
  },
  {
   "cell_type": "code",
   "execution_count": 35,
   "metadata": {},
   "outputs": [
    {
     "data": {
      "text/html": [
       "<table>\n",
       "<caption>A data.frame: 34 × 7</caption>\n",
       "<thead>\n",
       "\t<tr><th scope=col>year</th><th scope=col>name</th><th scope=col>country</th><th scope=col>time</th><th scope=col>race.time</th><th scope=col>MF</th><th scope=col>country.simple</th></tr>\n",
       "\t<tr><th scope=col>&lt;int&gt;</th><th scope=col>&lt;fct&gt;</th><th scope=col>&lt;fct&gt;</th><th scope=col>&lt;fct&gt;</th><th scope=col>&lt;dbl&gt;</th><th scope=col>&lt;fct&gt;</th><th scope=col>&lt;fct&gt;</th></tr>\n",
       "</thead>\n",
       "<tbody>\n",
       "\t<tr><td>2019</td><td>Lawrence Cherono         </td><td>Kenya</td><td>2H 7M 57S </td><td>2.132500</td><td>Men's  </td><td>Kenya</td></tr>\n",
       "\t<tr><td>2017</td><td>Geoffrey Kirui           </td><td>Kenya</td><td>2H 9M 37S </td><td>2.160278</td><td>Men's  </td><td>Kenya</td></tr>\n",
       "\t<tr><td>2012</td><td>Wesley Korir             </td><td>Kenya</td><td>2H 12M 40S</td><td>2.211111</td><td>Men's  </td><td>Kenya</td></tr>\n",
       "\t<tr><td>2011</td><td>Geoffrey Mutai           </td><td>Kenya</td><td>2H 3M 2S  </td><td>2.050556</td><td>Men's  </td><td>Kenya</td></tr>\n",
       "\t<tr><td>2010</td><td>Robert Kiprono Cheruiyot </td><td>Kenya</td><td>2H 5M 52S </td><td>2.097778</td><td>Men's  </td><td>Kenya</td></tr>\n",
       "\t<tr><td>2008</td><td>Robert Kipkoech Cheruiyot</td><td>Kenya</td><td>2H 7M 46S </td><td>2.129444</td><td>Men's  </td><td>Kenya</td></tr>\n",
       "\t<tr><td>2007</td><td>Robert Kipkoech Cheruiyot</td><td>Kenya</td><td>2H 14M 13S</td><td>2.236944</td><td>Men's  </td><td>Kenya</td></tr>\n",
       "\t<tr><td>2006</td><td>Robert Kipkoech Cheruiyot</td><td>Kenya</td><td>2H 7M 14S </td><td>2.120556</td><td>Men's  </td><td>Kenya</td></tr>\n",
       "\t<tr><td>2004</td><td>Timothy Cherigat         </td><td>Kenya</td><td>2H 10M 37S</td><td>2.176944</td><td>Men's  </td><td>Kenya</td></tr>\n",
       "\t<tr><td>2003</td><td>Robert Kipkoech Cheruiyot</td><td>Kenya</td><td>2H 10M 11S</td><td>2.169722</td><td>Men's  </td><td>Kenya</td></tr>\n",
       "\t<tr><td>2002</td><td>Rodgers Rop              </td><td>Kenya</td><td>2H 9M 2S  </td><td>2.150556</td><td>Men's  </td><td>Kenya</td></tr>\n",
       "\t<tr><td>2000</td><td>Elijah Lagat             </td><td>Kenya</td><td>2H 9M 47S </td><td>2.163056</td><td>Men's  </td><td>Kenya</td></tr>\n",
       "\t<tr><td>1999</td><td>Joseph Chebet            </td><td>Kenya</td><td>2H 9M 52S </td><td>2.164444</td><td>Men's  </td><td>Kenya</td></tr>\n",
       "\t<tr><td>1998</td><td>Moses Tanui              </td><td>Kenya</td><td>2H 7M 34S </td><td>2.126111</td><td>Men's  </td><td>Kenya</td></tr>\n",
       "\t<tr><td>1997</td><td>Lameck Aguta             </td><td>Kenya</td><td>2H 10M 34S</td><td>2.176111</td><td>Men's  </td><td>Kenya</td></tr>\n",
       "\t<tr><td>1996</td><td>Moses Tanui              </td><td>Kenya</td><td>2H 9M 15S </td><td>2.154167</td><td>Men's  </td><td>Kenya</td></tr>\n",
       "\t<tr><td>1995</td><td>Cosmas Ndeti             </td><td>Kenya</td><td>2H 9M 22S </td><td>2.156111</td><td>Men's  </td><td>Kenya</td></tr>\n",
       "\t<tr><td>1994</td><td>Cosmas Ndeti             </td><td>Kenya</td><td>2H 7M 15S </td><td>2.120833</td><td>Men's  </td><td>Kenya</td></tr>\n",
       "\t<tr><td>1993</td><td>Cosmas Ndeti             </td><td>Kenya</td><td>2H 9M 33S </td><td>2.159167</td><td>Men's  </td><td>Kenya</td></tr>\n",
       "\t<tr><td>1992</td><td>Ibrahim Hussein          </td><td>Kenya</td><td>2H 8M 14S </td><td>2.137222</td><td>Men's  </td><td>Kenya</td></tr>\n",
       "\t<tr><td>1991</td><td>Ibrahim Hussein          </td><td>Kenya</td><td>2H 11M 6S </td><td>2.185000</td><td>Men's  </td><td>Kenya</td></tr>\n",
       "\t<tr><td>1988</td><td>Ibrahim Hussein          </td><td>Kenya</td><td>2H 8M 43S </td><td>2.145278</td><td>Men's  </td><td>Kenya</td></tr>\n",
       "\t<tr><td>2017</td><td>Edna Kiplagat            </td><td>Kenya</td><td>2H 21M 52S</td><td>2.364444</td><td>Women's</td><td>Kenya</td></tr>\n",
       "\t<tr><td>2015</td><td>Caroline Rotich          </td><td>Kenya</td><td>2H 24M 55S</td><td>2.415278</td><td>Women's</td><td>Kenya</td></tr>\n",
       "\t<tr><td>2013</td><td>Rita Jeptoo              </td><td>Kenya</td><td>2H 26M 25S</td><td>2.440278</td><td>Women's</td><td>Kenya</td></tr>\n",
       "\t<tr><td>2012</td><td>Sharon Cherop            </td><td>Kenya</td><td>2H 31M 50S</td><td>2.530556</td><td>Women's</td><td>Kenya</td></tr>\n",
       "\t<tr><td>2011</td><td>Caroline Kilel           </td><td>Kenya</td><td>2H 22M 36S</td><td>2.376667</td><td>Women's</td><td>Kenya</td></tr>\n",
       "\t<tr><td>2009</td><td>Salina Kosgei            </td><td>Kenya</td><td>2H 32M 16S</td><td>2.537778</td><td>Women's</td><td>Kenya</td></tr>\n",
       "\t<tr><td>2006</td><td>Rita Jeptoo              </td><td>Kenya</td><td>2H 23M 38S</td><td>2.393889</td><td>Women's</td><td>Kenya</td></tr>\n",
       "\t<tr><td>2005</td><td>Catherine Ndereba        </td><td>Kenya</td><td>2H 25M 13S</td><td>2.420278</td><td>Women's</td><td>Kenya</td></tr>\n",
       "\t<tr><td>2004</td><td>Catherine Ndereba        </td><td>Kenya</td><td>2H 24M 27S</td><td>2.407500</td><td>Women's</td><td>Kenya</td></tr>\n",
       "\t<tr><td>2002</td><td>Margaret Okayo           </td><td>Kenya</td><td>2H 20M 43S</td><td>2.345278</td><td>Women's</td><td>Kenya</td></tr>\n",
       "\t<tr><td>2001</td><td>Catherine Ndereba        </td><td>Kenya</td><td>2H 23M 53S</td><td>2.398056</td><td>Women's</td><td>Kenya</td></tr>\n",
       "\t<tr><td>2000</td><td>Catherine Ndereba        </td><td>Kenya</td><td>2H 26M 11S</td><td>2.436389</td><td>Women's</td><td>Kenya</td></tr>\n",
       "</tbody>\n",
       "</table>\n"
      ],
      "text/latex": [
       "A data.frame: 34 × 7\n",
       "\\begin{tabular}{r|lllllll}\n",
       " year & name & country & time & race.time & MF & country.simple\\\\\n",
       " <int> & <fct> & <fct> & <fct> & <dbl> & <fct> & <fct>\\\\\n",
       "\\hline\n",
       "\t 2019 & Lawrence Cherono          & Kenya & 2H 7M 57S  & 2.132500 & Men's   & Kenya\\\\\n",
       "\t 2017 & Geoffrey Kirui            & Kenya & 2H 9M 37S  & 2.160278 & Men's   & Kenya\\\\\n",
       "\t 2012 & Wesley Korir              & Kenya & 2H 12M 40S & 2.211111 & Men's   & Kenya\\\\\n",
       "\t 2011 & Geoffrey Mutai            & Kenya & 2H 3M 2S   & 2.050556 & Men's   & Kenya\\\\\n",
       "\t 2010 & Robert Kiprono Cheruiyot  & Kenya & 2H 5M 52S  & 2.097778 & Men's   & Kenya\\\\\n",
       "\t 2008 & Robert Kipkoech Cheruiyot & Kenya & 2H 7M 46S  & 2.129444 & Men's   & Kenya\\\\\n",
       "\t 2007 & Robert Kipkoech Cheruiyot & Kenya & 2H 14M 13S & 2.236944 & Men's   & Kenya\\\\\n",
       "\t 2006 & Robert Kipkoech Cheruiyot & Kenya & 2H 7M 14S  & 2.120556 & Men's   & Kenya\\\\\n",
       "\t 2004 & Timothy Cherigat          & Kenya & 2H 10M 37S & 2.176944 & Men's   & Kenya\\\\\n",
       "\t 2003 & Robert Kipkoech Cheruiyot & Kenya & 2H 10M 11S & 2.169722 & Men's   & Kenya\\\\\n",
       "\t 2002 & Rodgers Rop               & Kenya & 2H 9M 2S   & 2.150556 & Men's   & Kenya\\\\\n",
       "\t 2000 & Elijah Lagat              & Kenya & 2H 9M 47S  & 2.163056 & Men's   & Kenya\\\\\n",
       "\t 1999 & Joseph Chebet             & Kenya & 2H 9M 52S  & 2.164444 & Men's   & Kenya\\\\\n",
       "\t 1998 & Moses Tanui               & Kenya & 2H 7M 34S  & 2.126111 & Men's   & Kenya\\\\\n",
       "\t 1997 & Lameck Aguta              & Kenya & 2H 10M 34S & 2.176111 & Men's   & Kenya\\\\\n",
       "\t 1996 & Moses Tanui               & Kenya & 2H 9M 15S  & 2.154167 & Men's   & Kenya\\\\\n",
       "\t 1995 & Cosmas Ndeti              & Kenya & 2H 9M 22S  & 2.156111 & Men's   & Kenya\\\\\n",
       "\t 1994 & Cosmas Ndeti              & Kenya & 2H 7M 15S  & 2.120833 & Men's   & Kenya\\\\\n",
       "\t 1993 & Cosmas Ndeti              & Kenya & 2H 9M 33S  & 2.159167 & Men's   & Kenya\\\\\n",
       "\t 1992 & Ibrahim Hussein           & Kenya & 2H 8M 14S  & 2.137222 & Men's   & Kenya\\\\\n",
       "\t 1991 & Ibrahim Hussein           & Kenya & 2H 11M 6S  & 2.185000 & Men's   & Kenya\\\\\n",
       "\t 1988 & Ibrahim Hussein           & Kenya & 2H 8M 43S  & 2.145278 & Men's   & Kenya\\\\\n",
       "\t 2017 & Edna Kiplagat             & Kenya & 2H 21M 52S & 2.364444 & Women's & Kenya\\\\\n",
       "\t 2015 & Caroline Rotich           & Kenya & 2H 24M 55S & 2.415278 & Women's & Kenya\\\\\n",
       "\t 2013 & Rita Jeptoo               & Kenya & 2H 26M 25S & 2.440278 & Women's & Kenya\\\\\n",
       "\t 2012 & Sharon Cherop             & Kenya & 2H 31M 50S & 2.530556 & Women's & Kenya\\\\\n",
       "\t 2011 & Caroline Kilel            & Kenya & 2H 22M 36S & 2.376667 & Women's & Kenya\\\\\n",
       "\t 2009 & Salina Kosgei             & Kenya & 2H 32M 16S & 2.537778 & Women's & Kenya\\\\\n",
       "\t 2006 & Rita Jeptoo               & Kenya & 2H 23M 38S & 2.393889 & Women's & Kenya\\\\\n",
       "\t 2005 & Catherine Ndereba         & Kenya & 2H 25M 13S & 2.420278 & Women's & Kenya\\\\\n",
       "\t 2004 & Catherine Ndereba         & Kenya & 2H 24M 27S & 2.407500 & Women's & Kenya\\\\\n",
       "\t 2002 & Margaret Okayo            & Kenya & 2H 20M 43S & 2.345278 & Women's & Kenya\\\\\n",
       "\t 2001 & Catherine Ndereba         & Kenya & 2H 23M 53S & 2.398056 & Women's & Kenya\\\\\n",
       "\t 2000 & Catherine Ndereba         & Kenya & 2H 26M 11S & 2.436389 & Women's & Kenya\\\\\n",
       "\\end{tabular}\n"
      ],
      "text/markdown": [
       "\n",
       "A data.frame: 34 × 7\n",
       "\n",
       "| year &lt;int&gt; | name &lt;fct&gt; | country &lt;fct&gt; | time &lt;fct&gt; | race.time &lt;dbl&gt; | MF &lt;fct&gt; | country.simple &lt;fct&gt; |\n",
       "|---|---|---|---|---|---|---|\n",
       "| 2019 | Lawrence Cherono          | Kenya | 2H 7M 57S  | 2.132500 | Men's   | Kenya |\n",
       "| 2017 | Geoffrey Kirui            | Kenya | 2H 9M 37S  | 2.160278 | Men's   | Kenya |\n",
       "| 2012 | Wesley Korir              | Kenya | 2H 12M 40S | 2.211111 | Men's   | Kenya |\n",
       "| 2011 | Geoffrey Mutai            | Kenya | 2H 3M 2S   | 2.050556 | Men's   | Kenya |\n",
       "| 2010 | Robert Kiprono Cheruiyot  | Kenya | 2H 5M 52S  | 2.097778 | Men's   | Kenya |\n",
       "| 2008 | Robert Kipkoech Cheruiyot | Kenya | 2H 7M 46S  | 2.129444 | Men's   | Kenya |\n",
       "| 2007 | Robert Kipkoech Cheruiyot | Kenya | 2H 14M 13S | 2.236944 | Men's   | Kenya |\n",
       "| 2006 | Robert Kipkoech Cheruiyot | Kenya | 2H 7M 14S  | 2.120556 | Men's   | Kenya |\n",
       "| 2004 | Timothy Cherigat          | Kenya | 2H 10M 37S | 2.176944 | Men's   | Kenya |\n",
       "| 2003 | Robert Kipkoech Cheruiyot | Kenya | 2H 10M 11S | 2.169722 | Men's   | Kenya |\n",
       "| 2002 | Rodgers Rop               | Kenya | 2H 9M 2S   | 2.150556 | Men's   | Kenya |\n",
       "| 2000 | Elijah Lagat              | Kenya | 2H 9M 47S  | 2.163056 | Men's   | Kenya |\n",
       "| 1999 | Joseph Chebet             | Kenya | 2H 9M 52S  | 2.164444 | Men's   | Kenya |\n",
       "| 1998 | Moses Tanui               | Kenya | 2H 7M 34S  | 2.126111 | Men's   | Kenya |\n",
       "| 1997 | Lameck Aguta              | Kenya | 2H 10M 34S | 2.176111 | Men's   | Kenya |\n",
       "| 1996 | Moses Tanui               | Kenya | 2H 9M 15S  | 2.154167 | Men's   | Kenya |\n",
       "| 1995 | Cosmas Ndeti              | Kenya | 2H 9M 22S  | 2.156111 | Men's   | Kenya |\n",
       "| 1994 | Cosmas Ndeti              | Kenya | 2H 7M 15S  | 2.120833 | Men's   | Kenya |\n",
       "| 1993 | Cosmas Ndeti              | Kenya | 2H 9M 33S  | 2.159167 | Men's   | Kenya |\n",
       "| 1992 | Ibrahim Hussein           | Kenya | 2H 8M 14S  | 2.137222 | Men's   | Kenya |\n",
       "| 1991 | Ibrahim Hussein           | Kenya | 2H 11M 6S  | 2.185000 | Men's   | Kenya |\n",
       "| 1988 | Ibrahim Hussein           | Kenya | 2H 8M 43S  | 2.145278 | Men's   | Kenya |\n",
       "| 2017 | Edna Kiplagat             | Kenya | 2H 21M 52S | 2.364444 | Women's | Kenya |\n",
       "| 2015 | Caroline Rotich           | Kenya | 2H 24M 55S | 2.415278 | Women's | Kenya |\n",
       "| 2013 | Rita Jeptoo               | Kenya | 2H 26M 25S | 2.440278 | Women's | Kenya |\n",
       "| 2012 | Sharon Cherop             | Kenya | 2H 31M 50S | 2.530556 | Women's | Kenya |\n",
       "| 2011 | Caroline Kilel            | Kenya | 2H 22M 36S | 2.376667 | Women's | Kenya |\n",
       "| 2009 | Salina Kosgei             | Kenya | 2H 32M 16S | 2.537778 | Women's | Kenya |\n",
       "| 2006 | Rita Jeptoo               | Kenya | 2H 23M 38S | 2.393889 | Women's | Kenya |\n",
       "| 2005 | Catherine Ndereba         | Kenya | 2H 25M 13S | 2.420278 | Women's | Kenya |\n",
       "| 2004 | Catherine Ndereba         | Kenya | 2H 24M 27S | 2.407500 | Women's | Kenya |\n",
       "| 2002 | Margaret Okayo            | Kenya | 2H 20M 43S | 2.345278 | Women's | Kenya |\n",
       "| 2001 | Catherine Ndereba         | Kenya | 2H 23M 53S | 2.398056 | Women's | Kenya |\n",
       "| 2000 | Catherine Ndereba         | Kenya | 2H 26M 11S | 2.436389 | Women's | Kenya |\n",
       "\n"
      ],
      "text/plain": [
       "   year name                      country time       race.time MF     \n",
       "1  2019 Lawrence Cherono          Kenya   2H 7M 57S  2.132500  Men's  \n",
       "2  2017 Geoffrey Kirui            Kenya   2H 9M 37S  2.160278  Men's  \n",
       "3  2012 Wesley Korir              Kenya   2H 12M 40S 2.211111  Men's  \n",
       "4  2011 Geoffrey Mutai            Kenya   2H 3M 2S   2.050556  Men's  \n",
       "5  2010 Robert Kiprono Cheruiyot  Kenya   2H 5M 52S  2.097778  Men's  \n",
       "6  2008 Robert Kipkoech Cheruiyot Kenya   2H 7M 46S  2.129444  Men's  \n",
       "7  2007 Robert Kipkoech Cheruiyot Kenya   2H 14M 13S 2.236944  Men's  \n",
       "8  2006 Robert Kipkoech Cheruiyot Kenya   2H 7M 14S  2.120556  Men's  \n",
       "9  2004 Timothy Cherigat          Kenya   2H 10M 37S 2.176944  Men's  \n",
       "10 2003 Robert Kipkoech Cheruiyot Kenya   2H 10M 11S 2.169722  Men's  \n",
       "11 2002 Rodgers Rop               Kenya   2H 9M 2S   2.150556  Men's  \n",
       "12 2000 Elijah Lagat              Kenya   2H 9M 47S  2.163056  Men's  \n",
       "13 1999 Joseph Chebet             Kenya   2H 9M 52S  2.164444  Men's  \n",
       "14 1998 Moses Tanui               Kenya   2H 7M 34S  2.126111  Men's  \n",
       "15 1997 Lameck Aguta              Kenya   2H 10M 34S 2.176111  Men's  \n",
       "16 1996 Moses Tanui               Kenya   2H 9M 15S  2.154167  Men's  \n",
       "17 1995 Cosmas Ndeti              Kenya   2H 9M 22S  2.156111  Men's  \n",
       "18 1994 Cosmas Ndeti              Kenya   2H 7M 15S  2.120833  Men's  \n",
       "19 1993 Cosmas Ndeti              Kenya   2H 9M 33S  2.159167  Men's  \n",
       "20 1992 Ibrahim Hussein           Kenya   2H 8M 14S  2.137222  Men's  \n",
       "21 1991 Ibrahim Hussein           Kenya   2H 11M 6S  2.185000  Men's  \n",
       "22 1988 Ibrahim Hussein           Kenya   2H 8M 43S  2.145278  Men's  \n",
       "23 2017 Edna Kiplagat             Kenya   2H 21M 52S 2.364444  Women's\n",
       "24 2015 Caroline Rotich           Kenya   2H 24M 55S 2.415278  Women's\n",
       "25 2013 Rita Jeptoo               Kenya   2H 26M 25S 2.440278  Women's\n",
       "26 2012 Sharon Cherop             Kenya   2H 31M 50S 2.530556  Women's\n",
       "27 2011 Caroline Kilel            Kenya   2H 22M 36S 2.376667  Women's\n",
       "28 2009 Salina Kosgei             Kenya   2H 32M 16S 2.537778  Women's\n",
       "29 2006 Rita Jeptoo               Kenya   2H 23M 38S 2.393889  Women's\n",
       "30 2005 Catherine Ndereba         Kenya   2H 25M 13S 2.420278  Women's\n",
       "31 2004 Catherine Ndereba         Kenya   2H 24M 27S 2.407500  Women's\n",
       "32 2002 Margaret Okayo            Kenya   2H 20M 43S 2.345278  Women's\n",
       "33 2001 Catherine Ndereba         Kenya   2H 23M 53S 2.398056  Women's\n",
       "34 2000 Catherine Ndereba         Kenya   2H 26M 11S 2.436389  Women's\n",
       "   country.simple\n",
       "1  Kenya         \n",
       "2  Kenya         \n",
       "3  Kenya         \n",
       "4  Kenya         \n",
       "5  Kenya         \n",
       "6  Kenya         \n",
       "7  Kenya         \n",
       "8  Kenya         \n",
       "9  Kenya         \n",
       "10 Kenya         \n",
       "11 Kenya         \n",
       "12 Kenya         \n",
       "13 Kenya         \n",
       "14 Kenya         \n",
       "15 Kenya         \n",
       "16 Kenya         \n",
       "17 Kenya         \n",
       "18 Kenya         \n",
       "19 Kenya         \n",
       "20 Kenya         \n",
       "21 Kenya         \n",
       "22 Kenya         \n",
       "23 Kenya         \n",
       "24 Kenya         \n",
       "25 Kenya         \n",
       "26 Kenya         \n",
       "27 Kenya         \n",
       "28 Kenya         \n",
       "29 Kenya         \n",
       "30 Kenya         \n",
       "31 Kenya         \n",
       "32 Kenya         \n",
       "33 Kenya         \n",
       "34 Kenya         "
      ]
     },
     "metadata": {},
     "output_type": "display_data"
    }
   ],
   "source": [
    "df.marathon %>% filter(country=='Kenya')"
   ]
  },
  {
   "cell_type": "markdown",
   "metadata": {},
   "source": [
    "# Select"
   ]
  },
  {
   "cell_type": "markdown",
   "metadata": {},
   "source": [
    "- select let's you include/exclude columns."
   ]
  },
  {
   "cell_type": "code",
   "execution_count": 36,
   "metadata": {},
   "outputs": [
    {
     "data": {
      "text/html": [
       "<table>\n",
       "<caption>A data.frame: 6 × 2</caption>\n",
       "<thead>\n",
       "\t<tr><th scope=col>Species</th><th scope=col>Sepal.Length</th></tr>\n",
       "\t<tr><th scope=col>&lt;fct&gt;</th><th scope=col>&lt;dbl&gt;</th></tr>\n",
       "</thead>\n",
       "<tbody>\n",
       "\t<tr><td>setosa</td><td>5.1</td></tr>\n",
       "\t<tr><td>setosa</td><td>4.9</td></tr>\n",
       "\t<tr><td>setosa</td><td>4.7</td></tr>\n",
       "\t<tr><td>setosa</td><td>4.6</td></tr>\n",
       "\t<tr><td>setosa</td><td>5.0</td></tr>\n",
       "\t<tr><td>setosa</td><td>5.4</td></tr>\n",
       "</tbody>\n",
       "</table>\n"
      ],
      "text/latex": [
       "A data.frame: 6 × 2\n",
       "\\begin{tabular}{r|ll}\n",
       " Species & Sepal.Length\\\\\n",
       " <fct> & <dbl>\\\\\n",
       "\\hline\n",
       "\t setosa & 5.1\\\\\n",
       "\t setosa & 4.9\\\\\n",
       "\t setosa & 4.7\\\\\n",
       "\t setosa & 4.6\\\\\n",
       "\t setosa & 5.0\\\\\n",
       "\t setosa & 5.4\\\\\n",
       "\\end{tabular}\n"
      ],
      "text/markdown": [
       "\n",
       "A data.frame: 6 × 2\n",
       "\n",
       "| Species &lt;fct&gt; | Sepal.Length &lt;dbl&gt; |\n",
       "|---|---|\n",
       "| setosa | 5.1 |\n",
       "| setosa | 4.9 |\n",
       "| setosa | 4.7 |\n",
       "| setosa | 4.6 |\n",
       "| setosa | 5.0 |\n",
       "| setosa | 5.4 |\n",
       "\n"
      ],
      "text/plain": [
       "  Species Sepal.Length\n",
       "1 setosa  5.1         \n",
       "2 setosa  4.9         \n",
       "3 setosa  4.7         \n",
       "4 setosa  4.6         \n",
       "5 setosa  5.0         \n",
       "6 setosa  5.4         "
      ]
     },
     "metadata": {},
     "output_type": "display_data"
    }
   ],
   "source": [
    "# e.g.\n",
    "\n",
    "iris %>% select(Species, Sepal.Length) %>% head"
   ]
  },
  {
   "cell_type": "markdown",
   "metadata": {},
   "source": [
    "Select just the columns that represent runner names and country from the marathon data."
   ]
  },
  {
   "cell_type": "code",
   "execution_count": 37,
   "metadata": {},
   "outputs": [
    {
     "data": {
      "text/html": [
       "<table>\n",
       "<caption>A data.frame: 6 × 2</caption>\n",
       "<thead>\n",
       "\t<tr><th scope=col>name</th><th scope=col>country</th></tr>\n",
       "\t<tr><th scope=col>&lt;fct&gt;</th><th scope=col>&lt;fct&gt;</th></tr>\n",
       "</thead>\n",
       "<tbody>\n",
       "\t<tr><td>Lawrence Cherono          </td><td>Kenya        </td></tr>\n",
       "\t<tr><td>Yuki Kawauchi             </td><td>Japan        </td></tr>\n",
       "\t<tr><td>Geoffrey Kirui            </td><td>Kenya        </td></tr>\n",
       "\t<tr><td>Lemi Berhanu              </td><td>Ethiopia     </td></tr>\n",
       "\t<tr><td>Lelisa Desisa             </td><td>Ethiopia     </td></tr>\n",
       "\t<tr><td>Mebrahtom \"Meb\" Keflezighi</td><td>United States</td></tr>\n",
       "</tbody>\n",
       "</table>\n"
      ],
      "text/latex": [
       "A data.frame: 6 × 2\n",
       "\\begin{tabular}{r|ll}\n",
       " name & country\\\\\n",
       " <fct> & <fct>\\\\\n",
       "\\hline\n",
       "\t Lawrence Cherono           & Kenya        \\\\\n",
       "\t Yuki Kawauchi              & Japan        \\\\\n",
       "\t Geoffrey Kirui             & Kenya        \\\\\n",
       "\t Lemi Berhanu               & Ethiopia     \\\\\n",
       "\t Lelisa Desisa              & Ethiopia     \\\\\n",
       "\t Mebrahtom \"Meb\" Keflezighi & United States\\\\\n",
       "\\end{tabular}\n"
      ],
      "text/markdown": [
       "\n",
       "A data.frame: 6 × 2\n",
       "\n",
       "| name &lt;fct&gt; | country &lt;fct&gt; |\n",
       "|---|---|\n",
       "| Lawrence Cherono           | Kenya         |\n",
       "| Yuki Kawauchi              | Japan         |\n",
       "| Geoffrey Kirui             | Kenya         |\n",
       "| Lemi Berhanu               | Ethiopia      |\n",
       "| Lelisa Desisa              | Ethiopia      |\n",
       "| Mebrahtom \"Meb\" Keflezighi | United States |\n",
       "\n"
      ],
      "text/plain": [
       "  name                       country      \n",
       "1 Lawrence Cherono           Kenya        \n",
       "2 Yuki Kawauchi              Japan        \n",
       "3 Geoffrey Kirui             Kenya        \n",
       "4 Lemi Berhanu               Ethiopia     \n",
       "5 Lelisa Desisa              Ethiopia     \n",
       "6 Mebrahtom \"Meb\" Keflezighi United States"
      ]
     },
     "metadata": {},
     "output_type": "display_data"
    },
    {
     "data": {
      "text/html": [
       "<table>\n",
       "<caption>A data.frame: 171 × 2</caption>\n",
       "<thead>\n",
       "\t<tr><th scope=col>name</th><th scope=col>country</th></tr>\n",
       "\t<tr><th scope=col>&lt;fct&gt;</th><th scope=col>&lt;fct&gt;</th></tr>\n",
       "</thead>\n",
       "<tbody>\n",
       "\t<tr><td>Lawrence Cherono          </td><td>Kenya        </td></tr>\n",
       "\t<tr><td>Yuki Kawauchi             </td><td>Japan        </td></tr>\n",
       "\t<tr><td>Geoffrey Kirui            </td><td>Kenya        </td></tr>\n",
       "\t<tr><td>Lemi Berhanu              </td><td>Ethiopia     </td></tr>\n",
       "\t<tr><td>Lelisa Desisa             </td><td>Ethiopia     </td></tr>\n",
       "\t<tr><td>Mebrahtom \"Meb\" Keflezighi</td><td>United States</td></tr>\n",
       "\t<tr><td>Lelisa Desisa             </td><td>Ethiopia     </td></tr>\n",
       "\t<tr><td>Wesley Korir              </td><td>Kenya        </td></tr>\n",
       "\t<tr><td>Geoffrey Mutai            </td><td>Kenya        </td></tr>\n",
       "\t<tr><td>Robert Kiprono Cheruiyot  </td><td>Kenya        </td></tr>\n",
       "\t<tr><td>Deriba Merga              </td><td>Ethiopia     </td></tr>\n",
       "\t<tr><td>Robert Kipkoech Cheruiyot </td><td>Kenya        </td></tr>\n",
       "\t<tr><td>Robert Kipkoech Cheruiyot </td><td>Kenya        </td></tr>\n",
       "\t<tr><td>Robert Kipkoech Cheruiyot </td><td>Kenya        </td></tr>\n",
       "\t<tr><td>Hailu Negussie            </td><td>Ethiopia     </td></tr>\n",
       "\t<tr><td>Timothy Cherigat          </td><td>Kenya        </td></tr>\n",
       "\t<tr><td>Robert Kipkoech Cheruiyot </td><td>Kenya        </td></tr>\n",
       "\t<tr><td>Rodgers Rop               </td><td>Kenya        </td></tr>\n",
       "\t<tr><td>Lee Bong-Ju               </td><td>South Korea  </td></tr>\n",
       "\t<tr><td>Elijah Lagat              </td><td>Kenya        </td></tr>\n",
       "\t<tr><td>Joseph Chebet             </td><td>Kenya        </td></tr>\n",
       "\t<tr><td>Moses Tanui               </td><td>Kenya        </td></tr>\n",
       "\t<tr><td>Lameck Aguta              </td><td>Kenya        </td></tr>\n",
       "\t<tr><td>Moses Tanui               </td><td>Kenya        </td></tr>\n",
       "\t<tr><td>Cosmas Ndeti              </td><td>Kenya        </td></tr>\n",
       "\t<tr><td>Cosmas Ndeti              </td><td>Kenya        </td></tr>\n",
       "\t<tr><td>Cosmas Ndeti              </td><td>Kenya        </td></tr>\n",
       "\t<tr><td>Ibrahim Hussein           </td><td>Kenya        </td></tr>\n",
       "\t<tr><td>Ibrahim Hussein           </td><td>Kenya        </td></tr>\n",
       "\t<tr><td>Gelindo Bordin            </td><td>Italy        </td></tr>\n",
       "\t<tr><td>⋮</td><td>⋮</td></tr>\n",
       "\t<tr><td>Catherine Ndereba     </td><td>Kenya            </td></tr>\n",
       "\t<tr><td>Catherine Ndereba     </td><td>Kenya            </td></tr>\n",
       "\t<tr><td>Fatuma Roba           </td><td>Ethiopia         </td></tr>\n",
       "\t<tr><td>Fatuma Roba           </td><td>Ethiopia         </td></tr>\n",
       "\t<tr><td>Fatuma Roba           </td><td>Ethiopia         </td></tr>\n",
       "\t<tr><td>Uta Pippig            </td><td>Germany          </td></tr>\n",
       "\t<tr><td>Uta Pippig            </td><td>Germany          </td></tr>\n",
       "\t<tr><td>Uta Pippig            </td><td>Germany          </td></tr>\n",
       "\t<tr><td>Olga Markova          </td><td>Russia           </td></tr>\n",
       "\t<tr><td>Olga Markova          </td><td>Comm. Ind. States</td></tr>\n",
       "\t<tr><td>Wanda Panfil          </td><td>Poland           </td></tr>\n",
       "\t<tr><td>Rosa Mota             </td><td>Portugal         </td></tr>\n",
       "\t<tr><td>Ingrid Kristiansen    </td><td>Norway           </td></tr>\n",
       "\t<tr><td>Rosa Mota             </td><td>Portugal         </td></tr>\n",
       "\t<tr><td>Rosa Mota             </td><td>Portugal         </td></tr>\n",
       "\t<tr><td>Ingrid Kristiansen    </td><td>Norway           </td></tr>\n",
       "\t<tr><td>Lisa Larsen-Weidenbach</td><td>United States    </td></tr>\n",
       "\t<tr><td>Lorraine Moller       </td><td>New Zealand      </td></tr>\n",
       "\t<tr><td>Joan Benoit           </td><td>United States    </td></tr>\n",
       "\t<tr><td>Charlotte Teske       </td><td>Germany          </td></tr>\n",
       "\t<tr><td>Allison Roe           </td><td>New Zealand      </td></tr>\n",
       "\t<tr><td>Jacqueline Gareau     </td><td>Canada           </td></tr>\n",
       "\t<tr><td>Joan Benoit           </td><td>United States    </td></tr>\n",
       "\t<tr><td>Gayle S. Barron       </td><td>United States    </td></tr>\n",
       "\t<tr><td>Michiko (Miki) Gorman </td><td>United States    </td></tr>\n",
       "\t<tr><td>Kim Merritt           </td><td>United States    </td></tr>\n",
       "\t<tr><td>Liane Winter          </td><td>Germany          </td></tr>\n",
       "\t<tr><td>Michiko (Miki) Gorman </td><td>United States    </td></tr>\n",
       "\t<tr><td>Jacqueline A. Hansen  </td><td>United States    </td></tr>\n",
       "\t<tr><td>Nina Kuscsik          </td><td>United States    </td></tr>\n",
       "</tbody>\n",
       "</table>\n"
      ],
      "text/latex": [
       "A data.frame: 171 × 2\n",
       "\\begin{tabular}{r|ll}\n",
       " name & country\\\\\n",
       " <fct> & <fct>\\\\\n",
       "\\hline\n",
       "\t Lawrence Cherono           & Kenya        \\\\\n",
       "\t Yuki Kawauchi              & Japan        \\\\\n",
       "\t Geoffrey Kirui             & Kenya        \\\\\n",
       "\t Lemi Berhanu               & Ethiopia     \\\\\n",
       "\t Lelisa Desisa              & Ethiopia     \\\\\n",
       "\t Mebrahtom \"Meb\" Keflezighi & United States\\\\\n",
       "\t Lelisa Desisa              & Ethiopia     \\\\\n",
       "\t Wesley Korir               & Kenya        \\\\\n",
       "\t Geoffrey Mutai             & Kenya        \\\\\n",
       "\t Robert Kiprono Cheruiyot   & Kenya        \\\\\n",
       "\t Deriba Merga               & Ethiopia     \\\\\n",
       "\t Robert Kipkoech Cheruiyot  & Kenya        \\\\\n",
       "\t Robert Kipkoech Cheruiyot  & Kenya        \\\\\n",
       "\t Robert Kipkoech Cheruiyot  & Kenya        \\\\\n",
       "\t Hailu Negussie             & Ethiopia     \\\\\n",
       "\t Timothy Cherigat           & Kenya        \\\\\n",
       "\t Robert Kipkoech Cheruiyot  & Kenya        \\\\\n",
       "\t Rodgers Rop                & Kenya        \\\\\n",
       "\t Lee Bong-Ju                & South Korea  \\\\\n",
       "\t Elijah Lagat               & Kenya        \\\\\n",
       "\t Joseph Chebet              & Kenya        \\\\\n",
       "\t Moses Tanui                & Kenya        \\\\\n",
       "\t Lameck Aguta               & Kenya        \\\\\n",
       "\t Moses Tanui                & Kenya        \\\\\n",
       "\t Cosmas Ndeti               & Kenya        \\\\\n",
       "\t Cosmas Ndeti               & Kenya        \\\\\n",
       "\t Cosmas Ndeti               & Kenya        \\\\\n",
       "\t Ibrahim Hussein            & Kenya        \\\\\n",
       "\t Ibrahim Hussein            & Kenya        \\\\\n",
       "\t Gelindo Bordin             & Italy        \\\\\n",
       "\t ⋮ & ⋮\\\\\n",
       "\t Catherine Ndereba      & Kenya            \\\\\n",
       "\t Catherine Ndereba      & Kenya            \\\\\n",
       "\t Fatuma Roba            & Ethiopia         \\\\\n",
       "\t Fatuma Roba            & Ethiopia         \\\\\n",
       "\t Fatuma Roba            & Ethiopia         \\\\\n",
       "\t Uta Pippig             & Germany          \\\\\n",
       "\t Uta Pippig             & Germany          \\\\\n",
       "\t Uta Pippig             & Germany          \\\\\n",
       "\t Olga Markova           & Russia           \\\\\n",
       "\t Olga Markova           & Comm. Ind. States\\\\\n",
       "\t Wanda Panfil           & Poland           \\\\\n",
       "\t Rosa Mota              & Portugal         \\\\\n",
       "\t Ingrid Kristiansen     & Norway           \\\\\n",
       "\t Rosa Mota              & Portugal         \\\\\n",
       "\t Rosa Mota              & Portugal         \\\\\n",
       "\t Ingrid Kristiansen     & Norway           \\\\\n",
       "\t Lisa Larsen-Weidenbach & United States    \\\\\n",
       "\t Lorraine Moller        & New Zealand      \\\\\n",
       "\t Joan Benoit            & United States    \\\\\n",
       "\t Charlotte Teske        & Germany          \\\\\n",
       "\t Allison Roe            & New Zealand      \\\\\n",
       "\t Jacqueline Gareau      & Canada           \\\\\n",
       "\t Joan Benoit            & United States    \\\\\n",
       "\t Gayle S. Barron        & United States    \\\\\n",
       "\t Michiko (Miki) Gorman  & United States    \\\\\n",
       "\t Kim Merritt            & United States    \\\\\n",
       "\t Liane Winter           & Germany          \\\\\n",
       "\t Michiko (Miki) Gorman  & United States    \\\\\n",
       "\t Jacqueline A. Hansen   & United States    \\\\\n",
       "\t Nina Kuscsik           & United States    \\\\\n",
       "\\end{tabular}\n"
      ],
      "text/markdown": [
       "\n",
       "A data.frame: 171 × 2\n",
       "\n",
       "| name &lt;fct&gt; | country &lt;fct&gt; |\n",
       "|---|---|\n",
       "| Lawrence Cherono           | Kenya         |\n",
       "| Yuki Kawauchi              | Japan         |\n",
       "| Geoffrey Kirui             | Kenya         |\n",
       "| Lemi Berhanu               | Ethiopia      |\n",
       "| Lelisa Desisa              | Ethiopia      |\n",
       "| Mebrahtom \"Meb\" Keflezighi | United States |\n",
       "| Lelisa Desisa              | Ethiopia      |\n",
       "| Wesley Korir               | Kenya         |\n",
       "| Geoffrey Mutai             | Kenya         |\n",
       "| Robert Kiprono Cheruiyot   | Kenya         |\n",
       "| Deriba Merga               | Ethiopia      |\n",
       "| Robert Kipkoech Cheruiyot  | Kenya         |\n",
       "| Robert Kipkoech Cheruiyot  | Kenya         |\n",
       "| Robert Kipkoech Cheruiyot  | Kenya         |\n",
       "| Hailu Negussie             | Ethiopia      |\n",
       "| Timothy Cherigat           | Kenya         |\n",
       "| Robert Kipkoech Cheruiyot  | Kenya         |\n",
       "| Rodgers Rop                | Kenya         |\n",
       "| Lee Bong-Ju                | South Korea   |\n",
       "| Elijah Lagat               | Kenya         |\n",
       "| Joseph Chebet              | Kenya         |\n",
       "| Moses Tanui                | Kenya         |\n",
       "| Lameck Aguta               | Kenya         |\n",
       "| Moses Tanui                | Kenya         |\n",
       "| Cosmas Ndeti               | Kenya         |\n",
       "| Cosmas Ndeti               | Kenya         |\n",
       "| Cosmas Ndeti               | Kenya         |\n",
       "| Ibrahim Hussein            | Kenya         |\n",
       "| Ibrahim Hussein            | Kenya         |\n",
       "| Gelindo Bordin             | Italy         |\n",
       "| ⋮ | ⋮ |\n",
       "| Catherine Ndereba      | Kenya             |\n",
       "| Catherine Ndereba      | Kenya             |\n",
       "| Fatuma Roba            | Ethiopia          |\n",
       "| Fatuma Roba            | Ethiopia          |\n",
       "| Fatuma Roba            | Ethiopia          |\n",
       "| Uta Pippig             | Germany           |\n",
       "| Uta Pippig             | Germany           |\n",
       "| Uta Pippig             | Germany           |\n",
       "| Olga Markova           | Russia            |\n",
       "| Olga Markova           | Comm. Ind. States |\n",
       "| Wanda Panfil           | Poland            |\n",
       "| Rosa Mota              | Portugal          |\n",
       "| Ingrid Kristiansen     | Norway            |\n",
       "| Rosa Mota              | Portugal          |\n",
       "| Rosa Mota              | Portugal          |\n",
       "| Ingrid Kristiansen     | Norway            |\n",
       "| Lisa Larsen-Weidenbach | United States     |\n",
       "| Lorraine Moller        | New Zealand       |\n",
       "| Joan Benoit            | United States     |\n",
       "| Charlotte Teske        | Germany           |\n",
       "| Allison Roe            | New Zealand       |\n",
       "| Jacqueline Gareau      | Canada            |\n",
       "| Joan Benoit            | United States     |\n",
       "| Gayle S. Barron        | United States     |\n",
       "| Michiko (Miki) Gorman  | United States     |\n",
       "| Kim Merritt            | United States     |\n",
       "| Liane Winter           | Germany           |\n",
       "| Michiko (Miki) Gorman  | United States     |\n",
       "| Jacqueline A. Hansen   | United States     |\n",
       "| Nina Kuscsik           | United States     |\n",
       "\n"
      ],
      "text/plain": [
       "    name                       country          \n",
       "1   Lawrence Cherono           Kenya            \n",
       "2   Yuki Kawauchi              Japan            \n",
       "3   Geoffrey Kirui             Kenya            \n",
       "4   Lemi Berhanu               Ethiopia         \n",
       "5   Lelisa Desisa              Ethiopia         \n",
       "6   Mebrahtom \"Meb\" Keflezighi United States    \n",
       "7   Lelisa Desisa              Ethiopia         \n",
       "8   Wesley Korir               Kenya            \n",
       "9   Geoffrey Mutai             Kenya            \n",
       "10  Robert Kiprono Cheruiyot   Kenya            \n",
       "11  Deriba Merga               Ethiopia         \n",
       "12  Robert Kipkoech Cheruiyot  Kenya            \n",
       "13  Robert Kipkoech Cheruiyot  Kenya            \n",
       "14  Robert Kipkoech Cheruiyot  Kenya            \n",
       "15  Hailu Negussie             Ethiopia         \n",
       "16  Timothy Cherigat           Kenya            \n",
       "17  Robert Kipkoech Cheruiyot  Kenya            \n",
       "18  Rodgers Rop                Kenya            \n",
       "19  Lee Bong-Ju                South Korea      \n",
       "20  Elijah Lagat               Kenya            \n",
       "21  Joseph Chebet              Kenya            \n",
       "22  Moses Tanui                Kenya            \n",
       "23  Lameck Aguta               Kenya            \n",
       "24  Moses Tanui                Kenya            \n",
       "25  Cosmas Ndeti               Kenya            \n",
       "26  Cosmas Ndeti               Kenya            \n",
       "27  Cosmas Ndeti               Kenya            \n",
       "28  Ibrahim Hussein            Kenya            \n",
       "29  Ibrahim Hussein            Kenya            \n",
       "30  Gelindo Bordin             Italy            \n",
       "⋮   ⋮                          ⋮                \n",
       "142 Catherine Ndereba          Kenya            \n",
       "143 Catherine Ndereba          Kenya            \n",
       "144 Fatuma Roba                Ethiopia         \n",
       "145 Fatuma Roba                Ethiopia         \n",
       "146 Fatuma Roba                Ethiopia         \n",
       "147 Uta Pippig                 Germany          \n",
       "148 Uta Pippig                 Germany          \n",
       "149 Uta Pippig                 Germany          \n",
       "150 Olga Markova               Russia           \n",
       "151 Olga Markova               Comm. Ind. States\n",
       "152 Wanda Panfil               Poland           \n",
       "153 Rosa Mota                  Portugal         \n",
       "154 Ingrid Kristiansen         Norway           \n",
       "155 Rosa Mota                  Portugal         \n",
       "156 Rosa Mota                  Portugal         \n",
       "157 Ingrid Kristiansen         Norway           \n",
       "158 Lisa Larsen-Weidenbach     United States    \n",
       "159 Lorraine Moller            New Zealand      \n",
       "160 Joan Benoit                United States    \n",
       "161 Charlotte Teske            Germany          \n",
       "162 Allison Roe                New Zealand      \n",
       "163 Jacqueline Gareau          Canada           \n",
       "164 Joan Benoit                United States    \n",
       "165 Gayle S. Barron            United States    \n",
       "166 Michiko (Miki) Gorman      United States    \n",
       "167 Kim Merritt                United States    \n",
       "168 Liane Winter               Germany          \n",
       "169 Michiko (Miki) Gorman      United States    \n",
       "170 Jacqueline A. Hansen       United States    \n",
       "171 Nina Kuscsik               United States    "
      ]
     },
     "metadata": {},
     "output_type": "display_data"
    }
   ],
   "source": [
    "# displays a preview of the selected columns\n",
    "df.marathon %>% select(name, country) %>% head\n",
    "\n",
    "# displays all of the instances for the selected columns\n",
    "df.marathon %>% select(name, country)"
   ]
  },
  {
   "cell_type": "markdown",
   "metadata": {},
   "source": [
    "# Putting it all together"
   ]
  },
  {
   "cell_type": "markdown",
   "metadata": {},
   "source": [
    "Use `group_by`, `filter`, and `summarize` to show the best race times for US and Kenyan women runners. (*Hint: use the `%in%` operator to filter by two values for one column*). Fill in the missing pieces below:"
   ]
  },
  {
   "cell_type": "code",
   "execution_count": 38,
   "metadata": {},
   "outputs": [
    {
     "data": {
      "text/html": [
       "<table>\n",
       "<caption>A tibble: 2 × 2</caption>\n",
       "<thead>\n",
       "\t<tr><th scope=col>country</th><th scope=col>best.race.time</th></tr>\n",
       "\t<tr><th scope=col>&lt;fct&gt;</th><th scope=col>&lt;dbl&gt;</th></tr>\n",
       "</thead>\n",
       "<tbody>\n",
       "\t<tr><td>Kenya        </td><td>2.345278</td></tr>\n",
       "\t<tr><td>United States</td><td>2.378611</td></tr>\n",
       "</tbody>\n",
       "</table>\n"
      ],
      "text/latex": [
       "A tibble: 2 × 2\n",
       "\\begin{tabular}{r|ll}\n",
       " country & best.race.time\\\\\n",
       " <fct> & <dbl>\\\\\n",
       "\\hline\n",
       "\t Kenya         & 2.345278\\\\\n",
       "\t United States & 2.378611\\\\\n",
       "\\end{tabular}\n"
      ],
      "text/markdown": [
       "\n",
       "A tibble: 2 × 2\n",
       "\n",
       "| country &lt;fct&gt; | best.race.time &lt;dbl&gt; |\n",
       "|---|---|\n",
       "| Kenya         | 2.345278 |\n",
       "| United States | 2.378611 |\n",
       "\n"
      ],
      "text/plain": [
       "  country       best.race.time\n",
       "1 Kenya         2.345278      \n",
       "2 United States 2.378611      "
      ]
     },
     "metadata": {},
     "output_type": "display_data"
    }
   ],
   "source": [
    "df.marathon %>%\n",
    "    filter(MF == \"Women's\", country %in% c('United States', 'Kenya')) %>%\n",
    "    group_by(country) %>%\n",
    "    summarize(best.race.time = min(race.time))"
   ]
  },
  {
   "cell_type": "markdown",
   "metadata": {},
   "source": [
    "Use `filter`, `select`, `head`, and `arrange` to show the best women's race times in the data and the country of the runners. Fill in the missing pieces below:"
   ]
  },
  {
   "cell_type": "code",
   "execution_count": 39,
   "metadata": {},
   "outputs": [
    {
     "data": {
      "text/html": [
       "<table>\n",
       "<caption>A data.frame: 6 × 2</caption>\n",
       "<thead>\n",
       "\t<tr><th scope=col>country</th><th scope=col>race.time</th></tr>\n",
       "\t<tr><th scope=col>&lt;fct&gt;</th><th scope=col>&lt;dbl&gt;</th></tr>\n",
       "</thead>\n",
       "<tbody>\n",
       "\t<tr><td>Ethiopia     </td><td>2.333056</td></tr>\n",
       "\t<tr><td>Kenya        </td><td>2.345278</td></tr>\n",
       "\t<tr><td>Germany      </td><td>2.362500</td></tr>\n",
       "\t<tr><td>Kenya        </td><td>2.364444</td></tr>\n",
       "\t<tr><td>Kenya        </td><td>2.376667</td></tr>\n",
       "\t<tr><td>United States</td><td>2.378611</td></tr>\n",
       "</tbody>\n",
       "</table>\n"
      ],
      "text/latex": [
       "A data.frame: 6 × 2\n",
       "\\begin{tabular}{r|ll}\n",
       " country & race.time\\\\\n",
       " <fct> & <dbl>\\\\\n",
       "\\hline\n",
       "\t Ethiopia      & 2.333056\\\\\n",
       "\t Kenya         & 2.345278\\\\\n",
       "\t Germany       & 2.362500\\\\\n",
       "\t Kenya         & 2.364444\\\\\n",
       "\t Kenya         & 2.376667\\\\\n",
       "\t United States & 2.378611\\\\\n",
       "\\end{tabular}\n"
      ],
      "text/markdown": [
       "\n",
       "A data.frame: 6 × 2\n",
       "\n",
       "| country &lt;fct&gt; | race.time &lt;dbl&gt; |\n",
       "|---|---|\n",
       "| Ethiopia      | 2.333056 |\n",
       "| Kenya         | 2.345278 |\n",
       "| Germany       | 2.362500 |\n",
       "| Kenya         | 2.364444 |\n",
       "| Kenya         | 2.376667 |\n",
       "| United States | 2.378611 |\n",
       "\n"
      ],
      "text/plain": [
       "  country       race.time\n",
       "1 Ethiopia      2.333056 \n",
       "2 Kenya         2.345278 \n",
       "3 Germany       2.362500 \n",
       "4 Kenya         2.364444 \n",
       "5 Kenya         2.376667 \n",
       "6 United States 2.378611 "
      ]
     },
     "metadata": {},
     "output_type": "display_data"
    },
    {
     "data": {
      "text/html": [
       "<table>\n",
       "<caption>A tibble: 6 × 2</caption>\n",
       "<thead>\n",
       "\t<tr><th scope=col>country</th><th scope=col>best.race.time</th></tr>\n",
       "\t<tr><th scope=col>&lt;fct&gt;</th><th scope=col>&lt;dbl&gt;</th></tr>\n",
       "</thead>\n",
       "<tbody>\n",
       "\t<tr><td>Canada           </td><td>2.574444</td></tr>\n",
       "\t<tr><td>Comm. Ind. States</td><td>2.395278</td></tr>\n",
       "\t<tr><td>Ethiopia         </td><td>2.333056</td></tr>\n",
       "\t<tr><td>Germany          </td><td>2.362500</td></tr>\n",
       "\t<tr><td>Kenya            </td><td>2.345278</td></tr>\n",
       "\t<tr><td>New Zealand      </td><td>2.446111</td></tr>\n",
       "</tbody>\n",
       "</table>\n"
      ],
      "text/latex": [
       "A tibble: 6 × 2\n",
       "\\begin{tabular}{r|ll}\n",
       " country & best.race.time\\\\\n",
       " <fct> & <dbl>\\\\\n",
       "\\hline\n",
       "\t Canada            & 2.574444\\\\\n",
       "\t Comm. Ind. States & 2.395278\\\\\n",
       "\t Ethiopia          & 2.333056\\\\\n",
       "\t Germany           & 2.362500\\\\\n",
       "\t Kenya             & 2.345278\\\\\n",
       "\t New Zealand       & 2.446111\\\\\n",
       "\\end{tabular}\n"
      ],
      "text/markdown": [
       "\n",
       "A tibble: 6 × 2\n",
       "\n",
       "| country &lt;fct&gt; | best.race.time &lt;dbl&gt; |\n",
       "|---|---|\n",
       "| Canada            | 2.574444 |\n",
       "| Comm. Ind. States | 2.395278 |\n",
       "| Ethiopia          | 2.333056 |\n",
       "| Germany           | 2.362500 |\n",
       "| Kenya             | 2.345278 |\n",
       "| New Zealand       | 2.446111 |\n",
       "\n"
      ],
      "text/plain": [
       "  country           best.race.time\n",
       "1 Canada            2.574444      \n",
       "2 Comm. Ind. States 2.395278      \n",
       "3 Ethiopia          2.333056      \n",
       "4 Germany           2.362500      \n",
       "5 Kenya             2.345278      \n",
       "6 New Zealand       2.446111      "
      ]
     },
     "metadata": {},
     "output_type": "display_data"
    },
    {
     "data": {
      "text/html": [
       "<table>\n",
       "<caption>A tibble: 11 × 2</caption>\n",
       "<thead>\n",
       "\t<tr><th scope=col>country</th><th scope=col>best.race.time</th></tr>\n",
       "\t<tr><th scope=col>&lt;fct&gt;</th><th scope=col>&lt;dbl&gt;</th></tr>\n",
       "</thead>\n",
       "<tbody>\n",
       "\t<tr><td>Canada           </td><td>2.574444</td></tr>\n",
       "\t<tr><td>Comm. Ind. States</td><td>2.395278</td></tr>\n",
       "\t<tr><td>Ethiopia         </td><td>2.333056</td></tr>\n",
       "\t<tr><td>Germany          </td><td>2.362500</td></tr>\n",
       "\t<tr><td>Kenya            </td><td>2.345278</td></tr>\n",
       "\t<tr><td>New Zealand      </td><td>2.446111</td></tr>\n",
       "\t<tr><td>Norway           </td><td>2.409167</td></tr>\n",
       "\t<tr><td>Poland           </td><td>2.405000</td></tr>\n",
       "\t<tr><td>Portugal         </td><td>2.408333</td></tr>\n",
       "\t<tr><td>Russia           </td><td>2.422222</td></tr>\n",
       "\t<tr><td>United States    </td><td>2.378611</td></tr>\n",
       "</tbody>\n",
       "</table>\n"
      ],
      "text/latex": [
       "A tibble: 11 × 2\n",
       "\\begin{tabular}{r|ll}\n",
       " country & best.race.time\\\\\n",
       " <fct> & <dbl>\\\\\n",
       "\\hline\n",
       "\t Canada            & 2.574444\\\\\n",
       "\t Comm. Ind. States & 2.395278\\\\\n",
       "\t Ethiopia          & 2.333056\\\\\n",
       "\t Germany           & 2.362500\\\\\n",
       "\t Kenya             & 2.345278\\\\\n",
       "\t New Zealand       & 2.446111\\\\\n",
       "\t Norway            & 2.409167\\\\\n",
       "\t Poland            & 2.405000\\\\\n",
       "\t Portugal          & 2.408333\\\\\n",
       "\t Russia            & 2.422222\\\\\n",
       "\t United States     & 2.378611\\\\\n",
       "\\end{tabular}\n"
      ],
      "text/markdown": [
       "\n",
       "A tibble: 11 × 2\n",
       "\n",
       "| country &lt;fct&gt; | best.race.time &lt;dbl&gt; |\n",
       "|---|---|\n",
       "| Canada            | 2.574444 |\n",
       "| Comm. Ind. States | 2.395278 |\n",
       "| Ethiopia          | 2.333056 |\n",
       "| Germany           | 2.362500 |\n",
       "| Kenya             | 2.345278 |\n",
       "| New Zealand       | 2.446111 |\n",
       "| Norway            | 2.409167 |\n",
       "| Poland            | 2.405000 |\n",
       "| Portugal          | 2.408333 |\n",
       "| Russia            | 2.422222 |\n",
       "| United States     | 2.378611 |\n",
       "\n"
      ],
      "text/plain": [
       "   country           best.race.time\n",
       "1  Canada            2.574444      \n",
       "2  Comm. Ind. States 2.395278      \n",
       "3  Ethiopia          2.333056      \n",
       "4  Germany           2.362500      \n",
       "5  Kenya             2.345278      \n",
       "6  New Zealand       2.446111      \n",
       "7  Norway            2.409167      \n",
       "8  Poland            2.405000      \n",
       "9  Portugal          2.408333      \n",
       "10 Russia            2.422222      \n",
       "11 United States     2.378611      "
      ]
     },
     "metadata": {},
     "output_type": "display_data"
    }
   ],
   "source": [
    "# basic results\n",
    "df.marathon %>%\n",
    "    filter(MF == \"Women's\") %>%\n",
    "    select(country, race.time) %>%\n",
    "    arrange(race.time) %>%\n",
    "    head\n",
    "\n",
    "\n",
    "# results with adding a group_by\n",
    "df.marathon %>%\n",
    "    filter(MF == \"Women's\") %>%\n",
    "    select(country, race.time) %>%\n",
    "    group_by(country) %>%\n",
    "    arrange(race.time) %>%\n",
    "    summarize(best.race.time = min(race.time)) %>%\n",
    "    head\n",
    "\n",
    "\n",
    "# removing head to see all countries\n",
    "df.marathon %>%\n",
    "    filter(MF == \"Women's\") %>%\n",
    "    select(country, race.time) %>%\n",
    "    group_by(country) %>%\n",
    "    arrange(country, race.time) %>%\n",
    "    summarize(best.race.time = min(race.time))"
   ]
  },
  {
   "cell_type": "markdown",
   "metadata": {},
   "source": [
    "What's the best race time ever for a US man?"
   ]
  },
  {
   "cell_type": "code",
   "execution_count": 40,
   "metadata": {},
   "outputs": [
    {
     "data": {
      "text/html": [
       "<table>\n",
       "<caption>A data.frame: 1 × 1</caption>\n",
       "<thead>\n",
       "\t<tr><th scope=col>best.race.time</th></tr>\n",
       "\t<tr><th scope=col>&lt;dbl&gt;</th></tr>\n",
       "</thead>\n",
       "<tbody>\n",
       "\t<tr><td>2.143611</td></tr>\n",
       "</tbody>\n",
       "</table>\n"
      ],
      "text/latex": [
       "A data.frame: 1 × 1\n",
       "\\begin{tabular}{r|l}\n",
       " best.race.time\\\\\n",
       " <dbl>\\\\\n",
       "\\hline\n",
       "\t 2.143611\\\\\n",
       "\\end{tabular}\n"
      ],
      "text/markdown": [
       "\n",
       "A data.frame: 1 × 1\n",
       "\n",
       "| best.race.time &lt;dbl&gt; |\n",
       "|---|\n",
       "| 2.143611 |\n",
       "\n"
      ],
      "text/plain": [
       "  best.race.time\n",
       "1 2.143611      "
      ]
     },
     "metadata": {},
     "output_type": "display_data"
    }
   ],
   "source": [
    "df.marathon %>%\n",
    "    filter(MF == \"Men's\", country == \"United States\")  %>%\n",
    "    select(name, race.time)  %>%    \n",
    "    summarize(best.race.time = min(race.time))"
   ]
  },
  {
   "cell_type": "code",
   "execution_count": 41,
   "metadata": {},
   "outputs": [
    {
     "data": {
      "text/html": [
       "<table>\n",
       "<caption>A data.frame: 1 × 2</caption>\n",
       "<thead>\n",
       "\t<tr><th scope=col>name</th><th scope=col>race.time</th></tr>\n",
       "\t<tr><th scope=col>&lt;fct&gt;</th><th scope=col>&lt;dbl&gt;</th></tr>\n",
       "</thead>\n",
       "<tbody>\n",
       "\t<tr><td>Mebrahtom \"Meb\" Keflezighi</td><td>2.143611</td></tr>\n",
       "</tbody>\n",
       "</table>\n"
      ],
      "text/latex": [
       "A data.frame: 1 × 2\n",
       "\\begin{tabular}{r|ll}\n",
       " name & race.time\\\\\n",
       " <fct> & <dbl>\\\\\n",
       "\\hline\n",
       "\t Mebrahtom \"Meb\" Keflezighi & 2.143611\\\\\n",
       "\\end{tabular}\n"
      ],
      "text/markdown": [
       "\n",
       "A data.frame: 1 × 2\n",
       "\n",
       "| name &lt;fct&gt; | race.time &lt;dbl&gt; |\n",
       "|---|---|\n",
       "| Mebrahtom \"Meb\" Keflezighi | 2.143611 |\n",
       "\n"
      ],
      "text/plain": [
       "  name                       race.time\n",
       "1 Mebrahtom \"Meb\" Keflezighi 2.143611 "
      ]
     },
     "metadata": {},
     "output_type": "display_data"
    }
   ],
   "source": [
    "# Try to get name of man with best US race time\n",
    "\n",
    "# Find the best US Men's race time and assign to variable y\n",
    "y = df.marathon %>%\n",
    "        filter(MF == \"Men's\", country == \"United States\")  %>%\n",
    "        select(name, race.time)  %>%    \n",
    "        summarize(best.race.time = min(race.time))\n",
    "\n",
    "\n",
    "# Use variable y to filter df.marathon\n",
    "df.marathon %>%\n",
    "    filter(race.time == y[1,]) %>%\n",
    "    select(name, race.time)\n"
   ]
  },
  {
   "cell_type": "markdown",
   "metadata": {},
   "source": [
    "How does the best US men's time compare the the best race time in the data overall?"
   ]
  },
  {
   "cell_type": "code",
   "execution_count": 42,
   "metadata": {},
   "outputs": [
    {
     "name": "stdout",
     "output_type": "stream",
     "text": [
      "[1] 0.09305556\n"
     ]
    }
   ],
   "source": [
    "# Find the best US Men's race time and assign to variable y\n",
    "y = df.marathon %>%\n",
    "        filter(MF == \"Men's\", country == \"United States\")  %>%\n",
    "        select(name, race.time)  %>%    \n",
    "        summarize(best.race.time = min(race.time))\n",
    "\n",
    "\n",
    "# Find the best race time overall\n",
    "best_overall = df.marathon %>%\n",
    "               arrange(race.time) %>%\n",
    "               summarize(best.race.time = min(race.time))\n",
    "\n",
    "\n",
    "# compare the best US men's time compare the the best race time in the data overall\n",
    "difference = y[1, ] - best_overall[1, ]\n",
    "\n",
    "print(difference[1])\n"
   ]
  },
  {
   "cell_type": "markdown",
   "metadata": {},
   "source": [
    "# Bonus"
   ]
  },
  {
   "cell_type": "markdown",
   "metadata": {},
   "source": [
    "For all countries with at least 5 winners in the men's category, which country has the best median race time in the men's category? (*Hint: use the `n()` function to count the winners by country.) "
   ]
  },
  {
   "cell_type": "code",
   "execution_count": 43,
   "metadata": {},
   "outputs": [
    {
     "data": {
      "text/html": [
       "<table>\n",
       "<caption>A tibble: 6 × 2</caption>\n",
       "<thead>\n",
       "\t<tr><th scope=col>country</th><th scope=col>median.race.time</th></tr>\n",
       "\t<tr><th scope=col>&lt;fct&gt;</th><th scope=col>&lt;dbl&gt;</th></tr>\n",
       "</thead>\n",
       "<tbody>\n",
       "\t<tr><td>Canada       </td><td>2.503472</td></tr>\n",
       "\t<tr><td>Ethiopia     </td><td>2.163750</td></tr>\n",
       "\t<tr><td>Finland      </td><td>2.348333</td></tr>\n",
       "\t<tr><td>Japan        </td><td>2.275833</td></tr>\n",
       "\t<tr><td>Kenya        </td><td>2.155139</td></tr>\n",
       "\t<tr><td>United States</td><td>2.478889</td></tr>\n",
       "</tbody>\n",
       "</table>\n"
      ],
      "text/latex": [
       "A tibble: 6 × 2\n",
       "\\begin{tabular}{r|ll}\n",
       " country & median.race.time\\\\\n",
       " <fct> & <dbl>\\\\\n",
       "\\hline\n",
       "\t Canada        & 2.503472\\\\\n",
       "\t Ethiopia      & 2.163750\\\\\n",
       "\t Finland       & 2.348333\\\\\n",
       "\t Japan         & 2.275833\\\\\n",
       "\t Kenya         & 2.155139\\\\\n",
       "\t United States & 2.478889\\\\\n",
       "\\end{tabular}\n"
      ],
      "text/markdown": [
       "\n",
       "A tibble: 6 × 2\n",
       "\n",
       "| country &lt;fct&gt; | median.race.time &lt;dbl&gt; |\n",
       "|---|---|\n",
       "| Canada        | 2.503472 |\n",
       "| Ethiopia      | 2.163750 |\n",
       "| Finland       | 2.348333 |\n",
       "| Japan         | 2.275833 |\n",
       "| Kenya         | 2.155139 |\n",
       "| United States | 2.478889 |\n",
       "\n"
      ],
      "text/plain": [
       "  country       median.race.time\n",
       "1 Canada        2.503472        \n",
       "2 Ethiopia      2.163750        \n",
       "3 Finland       2.348333        \n",
       "4 Japan         2.275833        \n",
       "5 Kenya         2.155139        \n",
       "6 United States 2.478889        "
      ]
     },
     "metadata": {},
     "output_type": "display_data"
    }
   ],
   "source": [
    "# This should get you started. It adds a column \"N.winners\" that represents the\n",
    "# total winners from the runner's country.\n",
    "\n",
    "df.marathon %>%\n",
    "    filter(MF == \"Men's\") %>%\n",
    "    group_by(country) %>%\n",
    "    mutate(N.winners = n())  %>%\n",
    "    filter(N.winners >= 5) %>%\n",
    "    summarize(median.race.time = median(race.time))"
   ]
  }
 ],
 "metadata": {
  "kernelspec": {
   "display_name": "R",
   "language": "R",
   "name": "ir"
  },
  "language_info": {
   "codemirror_mode": "r",
   "file_extension": ".r",
   "mimetype": "text/x-r-source",
   "name": "R",
   "pygments_lexer": "r",
   "version": "3.6.0"
  }
 },
 "nbformat": 4,
 "nbformat_minor": 4
}
