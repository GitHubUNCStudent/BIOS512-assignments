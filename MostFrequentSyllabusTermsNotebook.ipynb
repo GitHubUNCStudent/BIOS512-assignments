{
 "cells": [
  {
   "cell_type": "code",
   "execution_count": 82,
   "metadata": {},
   "outputs": [],
   "source": [
    "# load libraries\n",
    "\n",
    "library(tm)\n",
    "library(readr)\n",
    "library(ggplot2)"
   ]
  },
  {
   "cell_type": "code",
   "execution_count": 83,
   "metadata": {},
   "outputs": [],
   "source": [
    "# upload BIOS512 syllabus for analysis\n",
    "# use modified version of the syllabus consisting of Course Description-Final project\n",
    "# modified version of the syllabus excludes sections Course Grading Scale(s)-Technical support\n",
    "\n",
    "syllabuspath=\"C:\\\\Users\\\\A computer\\\\Documents\\\\MyPythonFiles\\\\Files\\\\SYLLABUSforanalysis.txt\"\n",
    "\n",
    "syllabustext=read_file(syllabuspath)\n"
   ]
  },
  {
   "cell_type": "code",
   "execution_count": 84,
   "metadata": {},
   "outputs": [
    {
     "name": "stdout",
     "output_type": "stream",
     "text": [
      "[1] \"# Course Description This course will be an introductory course to data science and is required for MPH students with concentration in Public Health Data Science. The goals of the course are to, 1. achieve proficiency in the R programming language, with particular emphasis    on the Tidyverse; 1. gain familiarity with a suite of data science tools; 1. master the practices of good data science; and, 1. learn how to apply the methods and tools to public health datasets.  # Prerequisites This course is required for MPH students with concentration in Public Health Data Science and is appropriate for master's students in quantitative fields. PhD students in computer science, business, psychology, social science, and science may also find this course useful. There are no pre-requisites beyond those required for entry into the MPH program.  # Instructor Chuck Pepe-Ranney, PhD   Visiting Lecturer   Department of Biostatistics   3101A McGavran-Greenberg Hall   Phone: 575-313-0993   Email: cpeperanney@agbiome.com    # Teaching Assistant *TBD*  # Office Hours: *TBD*  # Course Website: https://github.com/chuckpr/BIOS512  # Class Days, Times, Location: Tuesday and Thursday from 11am until 12:15pm.  # Course Overview This course will teach you the skills to build and communicate end-to-end data narratives.  We will specifically be focusing on the following techology: - [Tidyverse](https://www.tidyverse.org) - [Jupyter](https://jupyter.org/) - [Docker](https://www.docker.com/) - [Git](https://git-scm.com/) and [GitHub](https://github.com/) - (if time permits...) [scikit-learn](https://scikit-learn.org) and [Plotly](https://plot.ly)  # Course Format The course format will include two lectures each week. The lectures will be supplemented with in-class exercises, case studies, and examples of data science applications in public health settings.  # Course-at-a-glance The instructor reserves the right to make changes to the syllabus, including topics, readings, assignments, and due dates. Any changes will be announced as early as possible. For session-by-session course schedule details, please see the [course website](https://github.com/chuckpr/BIOS512).  # Course Assignments and Assessments This course will include the following graded assignments that contribute to your final grade in the course. For assignment descriptions and assignment grading rubrics, please see below.  | Assignments | Points/Percentages | | --- | ---: | | (approximately) Weekly exercises | 75 | | Final project | 20 | | Participation | 5 |  # Map of Competencies to Learning Objectives and Assessment Assignments Below you will see the competency you will develop in this course, the learning objectives that comprise the competency, and the assignment in which you will practice demonstrating this competency.  ## Competency: Select and use data visualization methods to interpret and communicate research results, with the overall objective of conducting reproducible research, both individually and in project teams.  ## Learning Objectives: 1. Achieve proficiency in the R programming language. 1. Gain familiarity with a suite of data science tools, including data    wrangling, data quality control, data cleaning/editing, exploratory data    analysis, and data visualization. 1. Understand the principles of good data science, particularly reproducible    research. 1. Become familiar with several software tools for best practices in data    science including Git, Docker, Jupyter, and Make. 1. Apply the data science tools and principles of best practice to real data    problems in public health settings.  ## Assessment Assignment: ### Assignments: Will require use of R and data science tools in solving real data science problems.  Projects will also require demonstration of the elements of reproducible research.  ### Final project: Will contain questions about the capabilities of different software tools and questions about the principles of good data science.\"\n"
     ]
    }
   ],
   "source": [
    "# start cleaning syllabus text\n",
    "\n",
    "syllabustext <- gsub(\"\\n\", \" \", syllabustext)\n",
    "\n",
    "print(syllabustext)"
   ]
  },
  {
   "cell_type": "code",
   "execution_count": 85,
   "metadata": {},
   "outputs": [],
   "source": [
    "# add a space between text and its hyperlink to prepare for later when punctuation is removed\n",
    "\n",
    "syllabustext <- gsub(\"https\", \" https\", syllabustext)\n"
   ]
  },
  {
   "cell_type": "code",
   "execution_count": 86,
   "metadata": {},
   "outputs": [
    {
     "name": "stdout",
     "output_type": "stream",
     "text": [
      "[1] \"# Course Description Thi  course will be an introductory course to data science and i  required for MPH student  with concentration in Public Health Data Science. The goal  of the course are to, 1. achieve proficiency in the R programming language, with particular emphasi     on the Tidyverse; 1. gain familiarity with a suite of data science tools; 1. master the practice  of good data science; and, 1. learn how to apply the method  and tool  to public health datasets.  # Prerequisite  Thi  course i  required for MPH student  with concentration in Public Health Data Science and i  appropriate for master'  student  in quantitative fields. PhD student  in computer science, business, psychology, social science, and science may also find thi  course useful. There are no pre-requisite  beyond those required for entry into the MPH program.  # Instructor Chuck Pepe-Ranney, PhD   Visiting Lecturer   Department of Biostatistic    3101A McGavran-Greenberg Hall   Phone: 575-313-0993   Email: cpeperanney@agbiome.com    # Teaching Assistant *TBD*  # Office Hours: *TBD*  # Course Website:  https://github.com/chuckpr/BIOS512  # Clas  Days, Times, Location: Tuesday and Thursday from 11am until 12:15pm.  # Course Overview Thi  course will teach you the skill  to build and communicate end-to-end data narratives.  We will specifically be focusing on the following techology: - [Tidyverse]( https://www.tidyverse.org) - [Jupyter]( https://jupyter.org/) - [Docker]( https://www.docker.com/) - [Git]( https://git-scm.com/) and [GitHub]( https://github.com/) - (if time permits...) [scikit-learn]( https://scikit-learn.org) and [Plotly]( https://plot.ly)  # Course Format The course format will include two lecture  each week. The lecture  will be supplemented with in-clas  exercises, case studies, and example  of data science application  in public health settings.  # Course-at-a-glance The instructor reserve  the right to make change  to the syllabus, including topics, readings, assignments, and due dates. Any change  will be announced a  early a  possible. For session-by-session course schedule details, please see the [course website]( https://github.com/chuckpr/BIOS512).  # Course Assignment  and Assessment  Thi  course will include the following graded assignment  that contribute to your final grade in the course. For assignment description  and assignment grading rubrics, please see below.  | Assignment  | Points/Percentage  | | --- | ---: | | (approximately) Weekly exercise  | 75 | | Final project | 20 | | Participation | 5 |  # Map of Competencie  to Learning Objective  and Assessment Assignment  Below you will see the competency you will develop in thi  course, the learning objective  that comprise the competency, and the assignment in which you will practice demonstrating thi  competency.  ## Competency: Select and use data visualization method  to interpret and communicate research results, with the overall objective of conducting reproducible research, both individually and in project teams.  ## Learning Objectives: 1. Achieve proficiency in the R programming language. 1. Gain familiarity with a suite of data science tools, including data    wrangling, data quality control, data cleaning/editing, exploratory data    analysis, and data visualization. 1. Understand the principle  of good data science, particularly reproducible    research. 1. Become familiar with several software tool  for best practice  in data    science including Git, Docker, Jupyter, and Make. 1. Apply the data science tool  and principle  of best practice to real data    problem  in public health settings.  ## Assessment Assignment: ### Assignments: Will require use of R and data science tool  in solving real data science problems.  Project  will also require demonstration of the element  of reproducible research.  ### Final project: Will contain question  about the capabilitie  of different software tool  and question  about the principle  of good data science.\"\n"
     ]
    }
   ],
   "source": [
    "# remove plurals\n",
    "\n",
    "syllabustext <- gsub(\"s \", \"  \", syllabustext)\n",
    "print(syllabustext)"
   ]
  },
  {
   "cell_type": "code",
   "execution_count": 87,
   "metadata": {},
   "outputs": [
    {
     "name": "stdout",
     "output_type": "stream",
     "text": [
      "<<SimpleCorpus>>\n",
      "Metadata:  corpus specific: 1, document level (indexed): 0\n",
      "Content:  documents: 1\n",
      "\n",
      "[1] # Course Description Thi  course will be an introductory course to data science and i  required for MPH student  with concentration in Public Health Data Science. The goal  of the course are to, 1. achieve proficiency in the R programming language, with particular emphasi     on the Tidyverse; 1. gain familiarity with a suite of data science tools; 1. master the practice  of good data science; and, 1. learn how to apply the method  and tool  to public health datasets.  # Prerequisite  Thi  course i  required for MPH student  with concentration in Public Health Data Science and i  appropriate for master'  student  in quantitative fields. PhD student  in computer science, business, psychology, social science, and science may also find thi  course useful. There are no pre-requisite  beyond those required for entry into the MPH program.  # Instructor Chuck Pepe-Ranney, PhD   Visiting Lecturer   Department of Biostatistic    3101A McGavran-Greenberg Hall   Phone: 575-313-0993   Email: cpeperanney@agbiome.com    # Teaching Assistant *TBD*  # Office Hours: *TBD*  # Course Website:  https://github.com/chuckpr/BIOS512  # Clas  Days, Times, Location: Tuesday and Thursday from 11am until 12:15pm.  # Course Overview Thi  course will teach you the skill  to build and communicate end-to-end data narratives.  We will specifically be focusing on the following techology: - [Tidyverse]( https://www.tidyverse.org) - [Jupyter]( https://jupyter.org/) - [Docker]( https://www.docker.com/) - [Git]( https://git-scm.com/) and [GitHub]( https://github.com/) - (if time permits...) [scikit-learn]( https://scikit-learn.org) and [Plotly]( https://plot.ly)  # Course Format The course format will include two lecture  each week. The lecture  will be supplemented with in-clas  exercises, case studies, and example  of data science application  in public health settings.  # Course-at-a-glance The instructor reserve  the right to make change  to the syllabus, including topics, readings, assignments, and due dates. Any change  will be announced a  early a  possible. For session-by-session course schedule details, please see the [course website]( https://github.com/chuckpr/BIOS512).  # Course Assignment  and Assessment  Thi  course will include the following graded assignment  that contribute to your final grade in the course. For assignment description  and assignment grading rubrics, please see below.  | Assignment  | Points/Percentage  | | --- | ---: | | (approximately) Weekly exercise  | 75 | | Final project | 20 | | Participation | 5 |  # Map of Competencie  to Learning Objective  and Assessment Assignment  Below you will see the competency you will develop in thi  course, the learning objective  that comprise the competency, and the assignment in which you will practice demonstrating thi  competency.  ## Competency: Select and use data visualization method  to interpret and communicate research results, with the overall objective of conducting reproducible research, both individually and in project teams.  ## Learning Objectives: 1. Achieve proficiency in the R programming language. 1. Gain familiarity with a suite of data science tools, including data    wrangling, data quality control, data cleaning/editing, exploratory data    analysis, and data visualization. 1. Understand the principle  of good data science, particularly reproducible    research. 1. Become familiar with several software tool  for best practice  in data    science including Git, Docker, Jupyter, and Make. 1. Apply the data science tool  and principle  of best practice to real data    problem  in public health settings.  ## Assessment Assignment: ### Assignments: Will require use of R and data science tool  in solving real data science problems.  Project  will also require demonstration of the element  of reproducible research.  ### Final project: Will contain question  about the capabilitie  of different software tool  and question  about the principle  of good data science.\n"
     ]
    }
   ],
   "source": [
    "# convert the syllabustext into a corpus and inspect the corpus\n",
    "\n",
    "syllabusCorpus <- Corpus(VectorSource(syllabustext))\n",
    "inspect(syllabusCorpus)"
   ]
  },
  {
   "cell_type": "code",
   "execution_count": 88,
   "metadata": {},
   "outputs": [
    {
     "name": "stderr",
     "output_type": "stream",
     "text": [
      "Warning message in tm_map.SimpleCorpus(syllabusCorpus, tolower):\n",
      "\"transformation drops documents\"Warning message in tm_map.SimpleCorpus(syllabusCorpus, removeNumbers):\n",
      "\"transformation drops documents\"Warning message in tm_map.SimpleCorpus(syllabusCorpus, removePunctuation):\n",
      "\"transformation drops documents\""
     ]
    },
    {
     "name": "stdout",
     "output_type": "stream",
     "text": [
      "<<SimpleCorpus>>\n",
      "Metadata:  corpus specific: 1, document level (indexed): 0\n",
      "Content:  documents: 1\n",
      "\n",
      "[1]  course description thi  course will be an introductory course to data science and i  required for mph student  with concentration in public health data science the goal  of the course are to  achieve proficiency in the r programming language with particular emphasi     on the tidyverse  gain familiarity with a suite of data science tools  master the practice  of good data science and  learn how to apply the method  and tool  to public health datasets   prerequisite  thi  course i  required for mph student  with concentration in public health data science and i  appropriate for master  student  in quantitative fields phd student  in computer science business psychology social science and science may also find thi  course useful there are no prerequisite  beyond those required for entry into the mph program   instructor chuck peperanney phd   visiting lecturer   department of biostatistic    a mcgavrangreenberg hall   phone    email cpeperanneyagbiomecom     teaching assistant tbd   office hours tbd   course website  httpsgithubcomchuckprbios   clas  days times location tuesday and thursday from am until pm   course overview thi  course will teach you the skill  to build and communicate endtoend data narratives  we will specifically be focusing on the following techology  tidyverse httpswwwtidyverseorg  jupyter httpsjupyterorg  docker httpswwwdockercom  git httpsgitscmcom and github httpsgithubcom  if time permits scikitlearn httpsscikitlearnorg and plotly httpsplotly   course format the course format will include two lecture  each week the lecture  will be supplemented with inclas  exercises case studies and example  of data science application  in public health settings   courseataglance the instructor reserve  the right to make change  to the syllabus including topics readings assignments and due dates any change  will be announced a  early a  possible for sessionbysession course schedule details please see the course website httpsgithubcomchuckprbios   course assignment  and assessment  thi  course will include the following graded assignment  that contribute to your final grade in the course for assignment description  and assignment grading rubrics please see below   assignment   pointspercentage         approximately weekly exercise      final project     participation      map of competencie  to learning objective  and assessment assignment  below you will see the competency you will develop in thi  course the learning objective  that comprise the competency and the assignment in which you will practice demonstrating thi  competency   competency select and use data visualization method  to interpret and communicate research results with the overall objective of conducting reproducible research both individually and in project teams   learning objectives  achieve proficiency in the r programming language  gain familiarity with a suite of data science tools including data    wrangling data quality control data cleaningediting exploratory data    analysis and data visualization  understand the principle  of good data science particularly reproducible    research  become familiar with several software tool  for best practice  in data    science including git docker jupyter and make  apply the data science tool  and principle  of best practice to real data    problem  in public health settings   assessment assignment  assignments will require use of r and data science tool  in solving real data science problems  project  will also require demonstration of the element  of reproducible research   final project will contain question  about the capabilitie  of different software tool  and question  about the principle  of good data science\n"
     ]
    }
   ],
   "source": [
    "# common cleaning of the corpus to convert all to lowercase, remove numbers and punctuation\n",
    "\n",
    "syllabusCorpus <- tm_map(syllabusCorpus,tolower)\n",
    "\n",
    "syllabusCorpus <- tm_map(syllabusCorpus,removeNumbers)\n",
    "\n",
    "syllabusCorpus <- tm_map(syllabusCorpus,removePunctuation)\n",
    "\n",
    "\n",
    "inspect(syllabusCorpus)\n"
   ]
  },
  {
   "cell_type": "code",
   "execution_count": 89,
   "metadata": {},
   "outputs": [
    {
     "name": "stderr",
     "output_type": "stream",
     "text": [
      "Warning message in tm_map.SimpleCorpus(syllabusCorpus, removeWords, \"and\"):\n",
      "\"transformation drops documents\"Warning message in tm_map.SimpleCorpus(syllabusCorpus, removeWords, \"but\"):\n",
      "\"transformation drops documents\"Warning message in tm_map.SimpleCorpus(syllabusCorpus, removeWords, \"not\"):\n",
      "\"transformation drops documents\"Warning message in tm_map.SimpleCorpus(syllabusCorpus, removeWords, \"the\"):\n",
      "\"transformation drops documents\"Warning message in tm_map.SimpleCorpus(syllabusCorpus, removeWords, \"to\"):\n",
      "\"transformation drops documents\"Warning message in tm_map.SimpleCorpus(syllabusCorpus, removeWords, \"that\"):\n",
      "\"transformation drops documents\"Warning message in tm_map.SimpleCorpus(syllabusCorpus, removeWords, \"they\"):\n",
      "\"transformation drops documents\"Warning message in tm_map.SimpleCorpus(syllabusCorpus, removeWords, \"you\"):\n",
      "\"transformation drops documents\"Warning message in tm_map.SimpleCorpus(syllabusCorpus, removeWords, \"are\"):\n",
      "\"transformation drops documents\"Warning message in tm_map.SimpleCorpus(syllabusCorpus, removeWords, \"for\"):\n",
      "\"transformation drops documents\"Warning message in tm_map.SimpleCorpus(syllabusCorpus, removeWords, \"will\"):\n",
      "\"transformation drops documents\"Warning message in tm_map.SimpleCorpus(syllabusCorpus, removeWords, \"this\"):\n",
      "\"transformation drops documents\"Warning message in tm_map.SimpleCorpus(syllabusCorpus, removeWords, \"thi\"):\n",
      "\"transformation drops documents\"Warning message in tm_map.SimpleCorpus(syllabusCorpus, removeWords, \"if\"):\n",
      "\"transformation drops documents\"Warning message in tm_map.SimpleCorpus(syllabusCorpus, removeWords, \"of\"):\n",
      "\"transformation drops documents\"Warning message in tm_map.SimpleCorpus(syllabusCorpus, removeWords, \"in\"):\n",
      "\"transformation drops documents\"Warning message in tm_map.SimpleCorpus(syllabusCorpus, removeWords, \"is\"):\n",
      "\"transformation drops documents\"Warning message in tm_map.SimpleCorpus(syllabusCorpus, removeWords, \"on\"):\n",
      "\"transformation drops documents\"Warning message in tm_map.SimpleCorpus(syllabusCorpus, removeWords, \"of\"):\n",
      "\"transformation drops documents\"Warning message in tm_map.SimpleCorpus(syllabusCorpus, removeWords, \"with\"):\n",
      "\"transformation drops documents\"Warning message in tm_map.SimpleCorpus(syllabusCorpus, removeWords, \"may\"):\n",
      "\"transformation drops documents\"Warning message in tm_map.SimpleCorpus(syllabusCorpus, removeWords, \"all\"):\n",
      "\"transformation drops documents\""
     ]
    },
    {
     "name": "stdout",
     "output_type": "stream",
     "text": [
      "<<SimpleCorpus>>\n",
      "Metadata:  corpus specific: 1, document level (indexed): 0\n",
      "Content:  documents: 1\n",
      "\n",
      "[1]  course description   course  be an introductory course  data science  i  required  mph student   concentration  public health data science  goal    course    achieve proficiency   r programming language  particular emphasi       tidyverse  gain familiarity  a suite  data science tools  master  practice   good data science   learn how  apply  method   tool   public health datasets   prerequisite    course i  required  mph student   concentration  public health data science  i  appropriate  master  student   quantitative fields phd student   computer science business psychology social science  science  also find   course useful there  no prerequisite  beyond those required  entry into  mph program   instructor chuck peperanney phd   visiting lecturer   department  biostatistic    a mcgavrangreenberg hall   phone    email cpeperanneyagbiomecom     teaching assistant tbd   office hours tbd   course website  httpsgithubcomchuckprbios   clas  days times location tuesday  thursday from am until pm   course overview   course  teach   skill   build  communicate endtoend data narratives  we  specifically be focusing   following techology  tidyverse httpswwwtidyverseorg  jupyter httpsjupyterorg  docker httpswwwdockercom  git httpsgitscmcom  github httpsgithubcom   time permits scikitlearn httpsscikitlearnorg  plotly httpsplotly   course format  course format  include two lecture  each week  lecture   be supplemented  inclas  exercises case studies  example   data science application   public health settings   courseataglance  instructor reserve   right  make change    syllabus including topics readings assignments  due dates any change   be announced a  early a  possible  sessionbysession course schedule details please see  course website httpsgithubcomchuckprbios   course assignment   assessment    course  include  following graded assignment   contribute  your final grade   course  assignment description   assignment grading rubrics please see below   assignment   pointspercentage         approximately weekly exercise      final project     participation      map  competencie   learning objective   assessment assignment  below   see  competency   develop    course  learning objective   comprise  competency   assignment  which   practice demonstrating   competency   competency select  use data visualization method   interpret  communicate research results   overall objective  conducting reproducible research both individually   project teams   learning objectives  achieve proficiency   r programming language  gain familiarity  a suite  data science tools including data    wrangling data quality control data cleaningediting exploratory data    analysis  data visualization  understand  principle   good data science particularly reproducible    research  become familiar  several software tool   best practice   data    science including git docker jupyter  make  apply  data science tool   principle   best practice  real data    problem   public health settings   assessment assignment  assignments  require use  r  data science tool   solving real data science problems  project   also require demonstration   element   reproducible research   final project  contain question  about  capabilitie   different software tool   question  about  principle   good data science\n"
     ]
    }
   ],
   "source": [
    "# remove stop words such as and, but, not, the\n",
    "\n",
    "syllabusCorpus <- tm_map(syllabusCorpus, removeWords, \"and\")\n",
    "syllabusCorpus <- tm_map(syllabusCorpus, removeWords, \"but\")\n",
    "syllabusCorpus <- tm_map(syllabusCorpus, removeWords, \"not\")\n",
    "syllabusCorpus <- tm_map(syllabusCorpus, removeWords, \"the\")\n",
    "syllabusCorpus <- tm_map(syllabusCorpus, removeWords, \"to\")\n",
    "syllabusCorpus <- tm_map(syllabusCorpus, removeWords, \"that\")\n",
    "syllabusCorpus <- tm_map(syllabusCorpus, removeWords, \"they\")\n",
    "syllabusCorpus <- tm_map(syllabusCorpus, removeWords, \"you\")\n",
    "syllabusCorpus <- tm_map(syllabusCorpus, removeWords, \"are\")\n",
    "syllabusCorpus <- tm_map(syllabusCorpus, removeWords, \"for\")\n",
    "syllabusCorpus <- tm_map(syllabusCorpus, removeWords, \"will\")\n",
    "syllabusCorpus <- tm_map(syllabusCorpus, removeWords, \"this\")\n",
    "syllabusCorpus <- tm_map(syllabusCorpus, removeWords, \"thi\")\n",
    "syllabusCorpus <- tm_map(syllabusCorpus, removeWords, \"if\")\n",
    "syllabusCorpus <- tm_map(syllabusCorpus, removeWords, \"of\")\n",
    "syllabusCorpus <- tm_map(syllabusCorpus, removeWords, \"in\")\n",
    "syllabusCorpus <- tm_map(syllabusCorpus, removeWords, \"is\")\n",
    "syllabusCorpus <- tm_map(syllabusCorpus, removeWords, \"on\")\n",
    "syllabusCorpus <- tm_map(syllabusCorpus, removeWords, \"of\")\n",
    "syllabusCorpus <- tm_map(syllabusCorpus, removeWords, \"with\")\n",
    "syllabusCorpus <- tm_map(syllabusCorpus, removeWords, \"may\")\n",
    "syllabusCorpus <- tm_map(syllabusCorpus, removeWords, \"all\")\n",
    "\n",
    "\n",
    "inspect(syllabusCorpus)"
   ]
  },
  {
   "cell_type": "code",
   "execution_count": 90,
   "metadata": {},
   "outputs": [
    {
     "data": {
      "text/plain": [
       "<<TermDocumentMatrix (terms: 202, documents: 1)>>\n",
       "Non-/sparse entries: 202/0\n",
       "Sparsity           : 0%\n",
       "Maximal term length: 25\n",
       "Weighting          : term frequency (tf)"
      ]
     },
     "metadata": {},
     "output_type": "display_data"
    },
    {
     "name": "stdout",
     "output_type": "stream",
     "text": [
      "<<TermDocumentMatrix (terms: 202, documents: 1)>>\n",
      "Non-/sparse entries: 202/0\n",
      "Sparsity           : 0%\n",
      "Maximal term length: 25\n",
      "Weighting          : term frequency (tf)\n",
      "Sample             :\n",
      "            Docs\n",
      "Terms         1\n",
      "  assignment  8\n",
      "  competency  4\n",
      "  course     17\n",
      "  data       21\n",
      "  health      5\n",
      "  practice    4\n",
      "  project     4\n",
      "  public      5\n",
      "  science    16\n",
      "  tool        5\n"
     ]
    }
   ],
   "source": [
    "# Create a Term Document Matrix\n",
    "\n",
    "tdm_syllabus<-TermDocumentMatrix (syllabusCorpus)\n",
    "tdm_syllabus\n",
    "inspect(tdm_syllabus)\n",
    "\n",
    "\n"
   ]
  },
  {
   "cell_type": "code",
   "execution_count": 96,
   "metadata": {},
   "outputs": [],
   "source": [
    "TDM1<-as.matrix(tdm_syllabus, control=tf) #Convert this into a matrix format\n"
   ]
  },
  {
   "cell_type": "code",
   "execution_count": 97,
   "metadata": {},
   "outputs": [
    {
     "data": {
      "text/html": [
       "<table>\n",
       "<caption>A data.frame: 12 × 2</caption>\n",
       "<thead>\n",
       "\t<tr><th></th><th scope=col>word</th><th scope=col>freq</th></tr>\n",
       "\t<tr><th></th><th scope=col>&lt;fct&gt;</th><th scope=col>&lt;dbl&gt;</th></tr>\n",
       "</thead>\n",
       "<tbody>\n",
       "\t<tr><th scope=row>data</th><td>data      </td><td>21</td></tr>\n",
       "\t<tr><th scope=row>course</th><td>course    </td><td>17</td></tr>\n",
       "\t<tr><th scope=row>science</th><td>science   </td><td>16</td></tr>\n",
       "\t<tr><th scope=row>assignment</th><td>assignment</td><td> 8</td></tr>\n",
       "\t<tr><th scope=row>health</th><td>health    </td><td> 5</td></tr>\n",
       "\t<tr><th scope=row>public</th><td>public    </td><td> 5</td></tr>\n",
       "\t<tr><th scope=row>tool</th><td>tool      </td><td> 5</td></tr>\n",
       "\t<tr><th scope=row>competency</th><td>competency</td><td> 4</td></tr>\n",
       "\t<tr><th scope=row>practice</th><td>practice  </td><td> 4</td></tr>\n",
       "\t<tr><th scope=row>project</th><td>project   </td><td> 4</td></tr>\n",
       "\t<tr><th scope=row>research</th><td>research  </td><td> 4</td></tr>\n",
       "\t<tr><th scope=row>student</th><td>student   </td><td> 4</td></tr>\n",
       "</tbody>\n",
       "</table>\n"
      ],
      "text/latex": [
       "A data.frame: 12 × 2\n",
       "\\begin{tabular}{r|ll}\n",
       "  & word & freq\\\\\n",
       "  & <fct> & <dbl>\\\\\n",
       "\\hline\n",
       "\tdata & data       & 21\\\\\n",
       "\tcourse & course     & 17\\\\\n",
       "\tscience & science    & 16\\\\\n",
       "\tassignment & assignment &  8\\\\\n",
       "\thealth & health     &  5\\\\\n",
       "\tpublic & public     &  5\\\\\n",
       "\ttool & tool       &  5\\\\\n",
       "\tcompetency & competency &  4\\\\\n",
       "\tpractice & practice   &  4\\\\\n",
       "\tproject & project    &  4\\\\\n",
       "\tresearch & research   &  4\\\\\n",
       "\tstudent & student    &  4\\\\\n",
       "\\end{tabular}\n"
      ],
      "text/markdown": [
       "\n",
       "A data.frame: 12 × 2\n",
       "\n",
       "| <!--/--> | word &lt;fct&gt; | freq &lt;dbl&gt; |\n",
       "|---|---|---|\n",
       "| data | data       | 21 |\n",
       "| course | course     | 17 |\n",
       "| science | science    | 16 |\n",
       "| assignment | assignment |  8 |\n",
       "| health | health     |  5 |\n",
       "| public | public     |  5 |\n",
       "| tool | tool       |  5 |\n",
       "| competency | competency |  4 |\n",
       "| practice | practice   |  4 |\n",
       "| project | project    |  4 |\n",
       "| research | research   |  4 |\n",
       "| student | student    |  4 |\n",
       "\n"
      ],
      "text/plain": [
       "           word       freq\n",
       "data       data       21  \n",
       "course     course     17  \n",
       "science    science    16  \n",
       "assignment assignment  8  \n",
       "health     health      5  \n",
       "public     public      5  \n",
       "tool       tool        5  \n",
       "competency competency  4  \n",
       "practice   practice    4  \n",
       "project    project     4  \n",
       "research   research    4  \n",
       "student    student     4  "
      ]
     },
     "metadata": {},
     "output_type": "display_data"
    }
   ],
   "source": [
    "v <- sort(rowSums(TDM1),decreasing=TRUE)\n",
    "d <- data.frame(word = names(v),freq=v)\n",
    "shortlist <- head(d, 12)\n",
    "shortlist\n"
   ]
  },
  {
   "cell_type": "code",
   "execution_count": 93,
   "metadata": {},
   "outputs": [],
   "source": [
    "library(ggplot2)"
   ]
  },
  {
   "cell_type": "code",
   "execution_count": 98,
   "metadata": {},
   "outputs": [
    {
     "data": {
      "image/png": "[encoded data removed]",
      "text/plain": [
       "plot without title"
      ]
     },
     "metadata": {},
     "output_type": "display_data"
    }
   ],
   "source": [
    "p = ggplot(data = shortlist, aes(x = reorder(word, -freq), y=freq)) + geom_bar(stat=\"identity\", color=\"blue\", fill=\"white\", width=0.7) \n",
    "p = p + theme(axis.text.x=element_text(angle=90))\n",
    "p = p + ggtitle(\"The Twelve Most Frequent Terms in the Main Sections of the BIOS 512 Syllabus\") +\n",
    "  xlab(\"Terms\") + ylab(\"Frequency\")\n",
    "p"
   ]
  },
  {
   "cell_type": "code",
   "execution_count": null,
   "metadata": {},
   "outputs": [],
   "source": []
  }
 ],
 "metadata": {
  "kernelspec": {
   "display_name": "R",
   "language": "R",
   "name": "ir"
  },
  "language_info": {
   "codemirror_mode": "r",
   "file_extension": ".r",
   "mimetype": "text/x-r-source",
   "name": "R",
   "pygments_lexer": "r",
   "version": "3.5.2"
  }
 },
 "nbformat": 4,
 "nbformat_minor": 2
}
